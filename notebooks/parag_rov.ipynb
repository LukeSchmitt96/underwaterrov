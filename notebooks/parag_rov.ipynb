{
 "cells": [
  {
   "cell_type": "markdown",
   "metadata": {},
   "source": [
    "# Setup"
   ]
  },
  {
   "cell_type": "code",
   "execution_count": null,
   "metadata": {
    "scrolled": false
   },
   "outputs": [],
   "source": [
    "import numpy as np\n",
    "import matplotlib.pyplot as plt\n",
    "from sympy import *\n",
    "import sympy.physics.mechanics as me\n",
    "from pydy.system import System\n",
    "from pydy.viz import Cylinder, Plane, VisualizationFrame, Scene\n",
    "from sympy import sin, cos, symbols, solve\n",
    "from pydy.codegen.ode_function_generators import generate_ode_function\n",
    "from scipy.integrate import odeint\n",
    "from IPython.display import SVG\n",
    "SVG(filename='paragrov2.svg')"
   ]
  },
  {
   "cell_type": "code",
   "execution_count": null,
   "metadata": {
    "collapsed": true
   },
   "outputs": [],
   "source": [
    "%matplotlib nbagg"
   ]
  },
  {
   "cell_type": "code",
   "execution_count": null,
   "metadata": {
    "collapsed": true
   },
   "outputs": [],
   "source": [
    "me.init_vprinting(use_latex='mathjax')"
   ]
  },
  {
   "cell_type": "markdown",
   "metadata": {},
   "source": [
    "# Define Variables\n",
    "\n",
    "constants:\n",
    "\n",
    "- $m_b$: Mass of the Rov.\n",
    "- $v_b$: Volume of the Rov.\n",
    "- $\\mu$: drag.\n",
    "- $\\mu_r$: rotational drag.\n"
   ]
  },
  {
   "cell_type": "code",
   "execution_count": null,
   "metadata": {
    "collapsed": true
   },
   "outputs": [],
   "source": [
    "# Constants for the Robot Body\n",
    "#thruster positions\n",
    "T1 = symbols('T_1')                                     \n",
    "T2 = symbols('T_2')                                     \n",
    "T3 = symbols('T_3')                                     \n",
    "T4 = symbols('T_4')                                     \n",
    "T5 = symbols('T_5')                                     \n",
    "T6 = symbols('T_6') \n",
    "#COB relative to COM\n",
    "Bh = symbols('B_h')                                     \n",
    "Bw = symbols('B_w')                                     \n",
    "\n",
    "m_b = symbols('m_b')                                \n",
    "v_b = symbols('v_b') \n",
    "mu = symbols('\\mu') #drag\n",
    "mu_r = symbols('\\mu_r') #rotational drag\n",
    "g = symbols('g')\n",
    "I = list(symbols('Ixx, Iyy, Izz'))             # Moments of inertia of body\n"
   ]
  },
  {
   "cell_type": "code",
   "execution_count": null,
   "metadata": {
    "collapsed": true
   },
   "outputs": [],
   "source": [
    "# Inertial Reference Frame\n",
    "N = me.ReferenceFrame('N')\n",
    "\n",
    "# Define a world coordinate origin\n",
    "O = me.Point('O')\n",
    "O.set_vel(N, 0)"
   ]
  },
  {
   "cell_type": "code",
   "execution_count": null,
   "metadata": {},
   "outputs": [],
   "source": [
    "rot = list(me.dynamicsymbols('r0:3'))\n",
    "drot = list(me.dynamicsymbols('dr0:3'))\n",
    "x = list(me.dynamicsymbols('v0:3')) # Coordinates of robot in World Frame\n",
    "dx = list(me.dynamicsymbols('dv0:3'))\n",
    "kin_diff=Matrix(x+rot).diff()-Matrix(dx+drot)\n",
    "kin_diff"
   ]
  },
  {
   "cell_type": "code",
   "execution_count": null,
   "metadata": {},
   "outputs": [],
   "source": [
    "# Robot Reference Frame\n",
    "Rz=N.orientnew('R_z', 'Axis', (rot[2], N.z))\n",
    "Rz.set_ang_vel(N,drot[2]*N.z)\n",
    "\n",
    "Rx=Rz.orientnew('R_x', 'Axis', (rot[0], Rz.x))\n",
    "Rx.set_ang_vel(Rz,drot[0]*Rz.x)\n",
    "\n",
    "R=Rx.orientnew('R', 'Axis', (rot[1], Rx.y))\n",
    "R.set_ang_vel(Rx,drot[1]*Rx.y)\n",
    "\n",
    "#### adding dumping Torqe for each rotation\n",
    "T_z=(R,-drot[2]*N.z*mu_r) #rotaional dumping Torqe\n",
    "T_x=(R,-drot[0]*Rz.x*mu_r) #rotaional dumping Torqe\n",
    "T_y=(R,-drot[1]*Rx.y*mu_r) #rotaional dumping Torqe\n",
    "\n",
    "# Center of mass of body\n",
    "COM = O.locatenew('COM', x[0]*N.x + x[1]*N.y + x[2]*N.z)\n",
    "\n",
    "# Set the velocity of COM\n",
    "COM.set_vel(N, dx[0]*N.x + dx[1]*N.y + dx[2]*N.z)\n",
    "\n",
    "#center of bouyency\n",
    "COB = COM.locatenew('COB', R.x*Bw+R.z*Bh)\n",
    "COB.v2pt_theory(COM, N, R);\n",
    "R.ang_vel_in(N)"
   ]
  },
  {
   "cell_type": "code",
   "execution_count": null,
   "metadata": {
    "collapsed": true
   },
   "outputs": [],
   "source": [
    "# Calculate inertia of body\n",
    "Ib = me.inertia(R, *I)\n",
    "# Create a rigid body object for body\n",
    "Body = me.RigidBody('Body', COM, R, m_b, (Ib, COM))\n"
   ]
  },
  {
   "cell_type": "code",
   "execution_count": null,
   "metadata": {
    "collapsed": true
   },
   "outputs": [],
   "source": [
    "# Points of thrusters\n",
    "L1 = COM.locatenew('L_1', -R.y*T4+R.z*T5-R.x*T1)\n",
    "L2 = COM.locatenew('L_2', R.y*T4+R.z*T5-R.x*T1)\n",
    "L3 = COM.locatenew('L_3', -R.y*T3-R.z*T6+R.x*T2)\n",
    "L4 = COM.locatenew('L_4', R.y*T3-R.z*T6+R.x*T2)\n",
    "\n",
    "# Set the velocity of points \n",
    "L1.v2pt_theory(COM, N, R)\n",
    "L2.v2pt_theory(COM, N, R)\n",
    "L3.v2pt_theory(COM, N, R)\n",
    "L4.v2pt_theory(COM, N, R);\n"
   ]
  },
  {
   "cell_type": "markdown",
   "metadata": {},
   "source": [
    "## Calculating hydrodynamic drag\n",
    "\n",
    "under sphire assumption and ignoring inertia forces\n",
    "\n",
    "$F_{D}\\,=\\,{\\tfrac {1}{2}}\\,\\rho \\,v^{2}\\,C_{D}\\,A$\n",
    "\n",
    "https://en.wikipedia.org/wiki/Drag_(physics)\n",
    "\n",
    "we define $\\mu$ as:\n",
    "\n",
    "$\\mu=\\,{\\tfrac {1}{2}}\\,\\rho \\,C_{D}\\,A$\n",
    "\n",
    "then:\n",
    "\n",
    "$F_{D}\\,=\\mu \\,v^{2}$"
   ]
  },
  {
   "cell_type": "code",
   "execution_count": null,
   "metadata": {},
   "outputs": [],
   "source": [
    "#dCw=Cw.diff()\n",
    "v=N.x*dx[0]+N.y*dx[1]+N.z*dx[2]\n",
    "Fd=-v.normalize()*v.magnitude()**2*mu\n",
    "Fd"
   ]
  },
  {
   "cell_type": "code",
   "execution_count": null,
   "metadata": {
    "collapsed": true
   },
   "outputs": [],
   "source": [
    "#thrust forces symbols\n",
    "F1, F2, F3, F4 = symbols('f_1, f_2, f_3, f_4') \n",
    "Fg = -N.z *m_b * g\n",
    "Fb = N.z * v_b * 1e3 *g #whight of 1m^3 water in kg (MKS units)"
   ]
  },
  {
   "cell_type": "code",
   "execution_count": null,
   "metadata": {
    "collapsed": true
   },
   "outputs": [],
   "source": [
    "kane = me.KanesMethod(N, q_ind=x+rot, u_ind=dx+drot, kd_eqs=kin_diff)"
   ]
  },
  {
   "cell_type": "code",
   "execution_count": null,
   "metadata": {
    "collapsed": true
   },
   "outputs": [],
   "source": [
    "bodies = (Body,)\n",
    "loads = (\n",
    "    (L1, F1 * R.x),\n",
    "    (L2, F2 * R.x),\n",
    "    (L3, F3 * R.z), \n",
    "    (L4, F4 * R.z), \n",
    "    (COM, Fg ), \n",
    "    (COB, Fb ), \n",
    "    (COM, Fd ),\n",
    "    T_x,\n",
    "    T_y,\n",
    "    T_z\n",
    "    )\n",
    "\n",
    "fr, frstar = kane.kanes_equations(loads=loads, bodies=bodies)"
   ]
  },
  {
   "cell_type": "code",
   "execution_count": null,
   "metadata": {},
   "outputs": [],
   "source": [
    "mass_matrix = trigsimp(kane.mass_matrix_full)\n",
    "#mass_matrix"
   ]
  },
  {
   "cell_type": "code",
   "execution_count": null,
   "metadata": {
    "collapsed": true
   },
   "outputs": [],
   "source": [
    "forcing_vector = trigsimp(kane.forcing_full)"
   ]
  },
  {
   "cell_type": "code",
   "execution_count": null,
   "metadata": {},
   "outputs": [],
   "source": [
    "#to use to test the saved model\n",
    "#open('/tmp/mass_matrix.srepr','wb').write(mass_matrix)\n"
   ]
  },
  {
   "cell_type": "code",
   "execution_count": null,
   "metadata": {},
   "outputs": [],
   "source": [
    "coordinates = tuple(x+rot)\n",
    "coordinates"
   ]
  },
  {
   "cell_type": "code",
   "execution_count": null,
   "metadata": {},
   "outputs": [],
   "source": [
    "speeds = tuple(dx+drot)\n",
    "speeds"
   ]
  },
  {
   "cell_type": "code",
   "execution_count": null,
   "metadata": {
    "collapsed": true
   },
   "outputs": [],
   "source": [
    "specified = (F1, F2, F3, F4)\n",
    "constants = [T1,T2,T3,T4,T5,T6,Bh,Bw,m_b,v_b,mu,mu_r,g]+I"
   ]
  },
  {
   "cell_type": "code",
   "execution_count": null,
   "metadata": {},
   "outputs": [],
   "source": [
    "open('/tmp/forcing_vector.srepr','wb').write(srepr((\\\n",
    "                                                    forcing_vector,\n",
    "                                                   coordinates,\n",
    "                                                    mass_matrix,\n",
    "                                                   speeds,\n",
    "                                                    constants,\n",
    "                                                   specified,\n",
    "                                                   )).encode())\n"
   ]
  },
  {
   "cell_type": "code",
   "execution_count": null,
   "metadata": {
    "collapsed": true
   },
   "outputs": [],
   "source": [
    "(forcing_vector,\\\n",
    "coordinates,\n",
    "mass_matrix,\n",
    "speeds,\n",
    "constants,\n",
    "specified)=eval(open('/tmp/forcing_vector.srepr','rb').read())\n"
   ]
  },
  {
   "cell_type": "code",
   "execution_count": null,
   "metadata": {
    "collapsed": true
   },
   "outputs": [],
   "source": [
    "right_hand_side = generate_ode_function(forcing_vector, coordinates,\n",
    "                                        speeds, constants,\n",
    "                                        mass_matrix=mass_matrix,\n",
    "                                        specifieds=specified)"
   ]
  },
  {
   "cell_type": "code",
   "execution_count": null,
   "metadata": {},
   "outputs": [],
   "source": [
    "help(right_hand_side)"
   ]
  },
  {
   "cell_type": "code",
   "execution_count": null,
   "metadata": {
    "collapsed": true
   },
   "outputs": [],
   "source": [
    "x0 = np.zeros(12)\n",
    "#MKS units\n",
    "#constants = [Wx,Wh,T1,T2,Bh,Bw,m_b,v_b,mu,g]+I\n",
    "numerical_constants = np.array([\n",
    "                            0.03,  # T1 [m]\n",
    "                            0.03,  # T2 [m]\n",
    "                            0.1,  # T3 [m]\n",
    "                            0.15,  # T4 [m]\n",
    "                            0.03,  # T5 [m]\n",
    "                            0.03,  # T6 [m]\n",
    "                            0.08,  # Bh [m]\n",
    "                            0.01,  # Bw [m]\n",
    "                            1.0,  # m_b [kg]\n",
    "                            0.001 ,  # v_b [M^3]\n",
    "                            0.3,  # mu\n",
    "                            0.2,  # mu_r\n",
    "                            9.8,  # g MKS\n",
    "                            0.5,  # Ixx [kg*m^2]\n",
    "                            0.5,  # Iyy [kg*m^2]\n",
    "                            0.5,  # Izz [kg*m^2]\n",
    "                               ]\n",
    "                            ) "
   ]
  },
  {
   "cell_type": "code",
   "execution_count": null,
   "metadata": {
    "collapsed": true
   },
   "outputs": [],
   "source": [
    "#args = {'constants': numerical_constants,\n",
    "numerical_specified=[0.8,0.5,0,0]\n",
    "frames_per_sec = 60.0\n",
    "final_time = 40.0\n",
    "\n",
    "t = np.linspace(0.0, final_time, int(final_time * frames_per_sec))"
   ]
  },
  {
   "cell_type": "code",
   "execution_count": null,
   "metadata": {},
   "outputs": [],
   "source": [
    "right_hand_side(x0, 0.0, numerical_specified, numerical_constants)"
   ]
  },
  {
   "cell_type": "code",
   "execution_count": null,
   "metadata": {},
   "outputs": [],
   "source": [
    "def controller(x, t):\n",
    "    if t<20:\n",
    "        #return [0.8,0.5,0]\n",
    "        return [0.0,0.0,0,0]\n",
    "    else:\n",
    "        return [-0.8,-0.5,0,0]\n",
    "#def controller(x, t):\n",
    "#    return [0.0,0.0,0]\n",
    "y = odeint(right_hand_side, x0, t, args=(controller, numerical_constants))\n",
    "\n",
    "#y = odeint(right_hand_side, x0, t, args=(numerical_specified, numerical_constants))\n",
    "y.shape"
   ]
  },
  {
   "cell_type": "code",
   "execution_count": null,
   "metadata": {
    "scrolled": false
   },
   "outputs": [],
   "source": [
    "def plot():\n",
    "    plt.figure()\n",
    "    #plt.plot(sys.times, np.rad2deg(x[:, :3]))\n",
    "    plt.subplot(2,3,1)\n",
    "    #plt.plot(t, np.rad2deg(y[:, 0]))\n",
    "    plt.plot(t, y[:, :3])\n",
    "    plt.legend([latex(s, mode='inline') for s in coordinates[:3]])\n",
    "    plt.subplot(2,3,2)\n",
    "    plt.plot(t, np.rad2deg(y[:, 3:6]))\n",
    "    plt.legend([latex(s, mode='inline') for s in coordinates[3:6]])\n",
    "    plt.subplot(2,3,3)\n",
    "    plt.plot(y[:,0],y[:,1])\n",
    "    plt.axis('equal')\n",
    "    plt.subplot(2,3,4)\n",
    "    plt.plot(t, np.rad2deg(y[:, 9:12]))\n",
    "    plt.legend([latex(s, mode='inline') for s in coordinates[9:12]])\n",
    "plot()"
   ]
  },
  {
   "cell_type": "markdown",
   "metadata": {
    "collapsed": true
   },
   "source": [
    "# another method"
   ]
  },
  {
   "cell_type": "code",
   "execution_count": null,
   "metadata": {},
   "outputs": [],
   "source": [
    "x0 = np.zeros(12)\n",
    "xx=x0\n",
    "y=[]\n",
    "for ct in t:\n",
    "    x_dot=right_hand_side(xx, ct, controller, numerical_constants)\n",
    "    y.append(xx)\n",
    "    xx=xx+x_dot*1/frames_per_sec\n",
    "y=np.array(y)\n",
    "y.shape"
   ]
  },
  {
   "cell_type": "code",
   "execution_count": null,
   "metadata": {},
   "outputs": [],
   "source": [
    "plot()"
   ]
  },
  {
   "cell_type": "code",
   "execution_count": null,
   "metadata": {
    "collapsed": true
   },
   "outputs": [],
   "source": []
  },
  {
   "cell_type": "code",
   "execution_count": null,
   "metadata": {
    "collapsed": true
   },
   "outputs": [],
   "source": []
  }
 ],
 "metadata": {
  "kernelspec": {
   "display_name": "Python 3",
   "language": "python",
   "name": "python3"
  },
  "language_info": {
   "codemirror_mode": {
    "name": "ipython",
    "version": 3
   },
   "file_extension": ".py",
   "mimetype": "text/x-python",
   "name": "python",
   "nbconvert_exporter": "python",
   "pygments_lexer": "ipython3",
   "version": "3.6.1"
  }
 },
 "nbformat": 4,
 "nbformat_minor": 2
}
