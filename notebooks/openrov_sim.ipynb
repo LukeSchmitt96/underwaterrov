{
 "cells": [
  {
   "cell_type": "code",
   "execution_count": 1,
   "metadata": {},
   "outputs": [],
   "source": [
    "%matplotlib nbagg\n",
    "import numpy as np\n",
    "import matplotlib.pyplot as plt\n",
    "from sympy import *\n",
    "import sympy.physics.mechanics as me\n",
    "from sympy import sin, cos, symbols, solve\n",
    "from scipy.integrate import odeint\n",
    "from IPython.display import SVG\n",
    "me.init_vprinting()#(use_latex='mathjax')\n",
    "#from sympy.interactive import printing\n",
    "#printing.init_printing(use_latex=True)"
   ]
  },
  {
   "cell_type": "code",
   "execution_count": 2,
   "metadata": {},
   "outputs": [],
   "source": [
    "def mprint(d):\n",
    "    print(me.vlatex(d))\n",
    "    return d\n",
    "    "
   ]
  },
  {
   "cell_type": "code",
   "execution_count": 3,
   "metadata": {},
   "outputs": [
    {
     "data": {
      "image/svg+xml": [
       "<svg height=\"12.109817cm\" id=\"svg2\" inkscape:version=\"0.91 r13725\" sodipodi:docname=\"openrov2.svg\" version=\"1.1\" viewBox=\"0 0 879.96933 429.08798\" width=\"24.83469cm\" xmlns=\"http://www.w3.org/2000/svg\" xmlns:cc=\"http://creativecommons.org/ns#\" xmlns:dc=\"http://purl.org/dc/elements/1.1/\" xmlns:inkscape=\"http://www.inkscape.org/namespaces/inkscape\" xmlns:ns0=\"http://www.iki.fi/pav/software/textext/\" xmlns:rdf=\"http://www.w3.org/1999/02/22-rdf-syntax-ns#\" xmlns:sodipodi=\"http://sodipodi.sourceforge.net/DTD/sodipodi-0.dtd\" xmlns:svg=\"http://www.w3.org/2000/svg\">\n",
       "  <sodipodi:namedview bordercolor=\"#666666\" borderopacity=\"1.0\" fit-margin-bottom=\"0\" fit-margin-left=\"0\" fit-margin-right=\"0\" fit-margin-top=\"0\" id=\"base\" inkscape:current-layer=\"layer1\" inkscape:cx=\"164.68785\" inkscape:cy=\"205.10634\" inkscape:document-units=\"px\" inkscape:pageopacity=\"0.0\" inkscape:pageshadow=\"2\" inkscape:snap-bbox=\"true\" inkscape:snap-global=\"true\" inkscape:window-height=\"1027\" inkscape:window-maximized=\"1\" inkscape:window-width=\"1920\" inkscape:window-x=\"1920\" inkscape:window-y=\"0\" inkscape:zoom=\"1\" pagecolor=\"#ffffff\" showgrid=\"false\" units=\"cm\"/>\n",
       "  <defs id=\"defs4\">\n",
       "    <marker id=\"Arrow2Mend\" inkscape:isstock=\"true\" inkscape:stockid=\"Arrow2Mend\" orient=\"auto\" refX=\"0.0\" refY=\"0.0\" style=\"overflow:visible;\">\n",
       "      <path d=\"M 8.7185878,4.0337352 L -2.2072895,0.016013256 L 8.7185884,-4.0017078 C 6.9730900,-1.6296469 6.9831476,1.6157441 8.7185878,4.0337352 z \" id=\"path4408\" style=\"fill-rule:evenodd;stroke-width:0.625;stroke-linejoin:round;stroke:#000000;stroke-opacity:1;fill:#000000;fill-opacity:1\" transform=\"scale(0.6) rotate(180) translate(0,0)\"/>\n",
       "    </marker>\n",
       "    <marker id=\"marker6702\" inkscape:isstock=\"true\" inkscape:stockid=\"Arrow1Mend\" orient=\"auto\" refX=\"0\" refY=\"0\" style=\"overflow:visible\">\n",
       "      <path d=\"M 0,0 5,-5 -12.5,0 5,5 0,0 Z\" id=\"path6704\" inkscape:connector-curvature=\"0\" style=\"fill:#000000;fill-opacity:1;fill-rule:evenodd;stroke:#000000;stroke-width:1pt;stroke-opacity:1\" transform=\"matrix(-0.4,0,0,-0.4,-4,0)\"/>\n",
       "    </marker>\n",
       "    <marker id=\"marker6628\" inkscape:collect=\"always\" inkscape:isstock=\"true\" inkscape:stockid=\"Arrow1Mend\" orient=\"auto\" refX=\"0\" refY=\"0\" style=\"overflow:visible\">\n",
       "      <path d=\"M 0,0 5,-5 -12.5,0 5,5 0,0 Z\" id=\"path6630\" inkscape:connector-curvature=\"0\" style=\"fill:#000000;fill-opacity:1;fill-rule:evenodd;stroke:#000000;stroke-width:1pt;stroke-opacity:1\" transform=\"matrix(-0.4,0,0,-0.4,-4,0)\"/>\n",
       "    </marker>\n",
       "    <marker id=\"Arrow1Mend\" inkscape:collect=\"always\" inkscape:isstock=\"true\" inkscape:stockid=\"Arrow1Mend\" orient=\"auto\" refX=\"0\" refY=\"0\" style=\"overflow:visible\">\n",
       "      <path d=\"M 0,0 5,-5 -12.5,0 5,5 0,0 Z\" id=\"path4437\" inkscape:connector-curvature=\"0\" style=\"fill:#000000;fill-opacity:1;fill-rule:evenodd;stroke:#000000;stroke-width:1pt;stroke-opacity:1\" transform=\"matrix(-0.4,0,0,-0.4,-4,0)\"/>\n",
       "    </marker>\n",
       "    <marker id=\"Arrow1Mstart\" inkscape:isstock=\"true\" inkscape:stockid=\"Arrow1Mstart\" orient=\"auto\" refX=\"0\" refY=\"0\" style=\"overflow:visible\">\n",
       "      <path d=\"M 0,0 5,-5 -12.5,0 5,5 0,0 Z\" id=\"path4434\" inkscape:connector-curvature=\"0\" style=\"fill:#000000;fill-opacity:1;fill-rule:evenodd;stroke:#000000;stroke-width:1pt;stroke-opacity:1\" transform=\"matrix(0.4,0,0,0.4,4,0)\"/>\n",
       "    </marker>\n",
       "    <marker id=\"Arrow1Mstart-1\" inkscape:isstock=\"true\" inkscape:stockid=\"Arrow1Mstart\" orient=\"auto\" refX=\"0\" refY=\"0\" style=\"overflow:visible\">\n",
       "      <path d=\"M 0,0 5,-5 -12.5,0 5,5 0,0 Z\" id=\"path4434-7\" inkscape:connector-curvature=\"0\" style=\"fill:#000000;fill-opacity:1;fill-rule:evenodd;stroke:#000000;stroke-width:1pt;stroke-opacity:1\" transform=\"matrix(0.4,0,0,0.4,4,0)\"/>\n",
       "    </marker>\n",
       "    <marker id=\"Arrow1Mend-8\" inkscape:isstock=\"true\" inkscape:stockid=\"Arrow1Mend\" orient=\"auto\" refX=\"0\" refY=\"0\" style=\"overflow:visible\">\n",
       "      <path d=\"M 0,0 5,-5 -12.5,0 5,5 0,0 Z\" id=\"path4437-9\" inkscape:connector-curvature=\"0\" style=\"fill:#000000;fill-opacity:1;fill-rule:evenodd;stroke:#000000;stroke-width:1pt;stroke-opacity:1\" transform=\"matrix(-0.4,0,0,-0.4,-4,0)\"/>\n",
       "    </marker>\n",
       "    <marker id=\"Arrow1Mstart-1-5\" inkscape:isstock=\"true\" inkscape:stockid=\"Arrow1Mstart\" orient=\"auto\" refX=\"0\" refY=\"0\" style=\"overflow:visible\">\n",
       "      <path d=\"M 0,0 5,-5 -12.5,0 5,5 0,0 Z\" id=\"path4434-7-4\" inkscape:connector-curvature=\"0\" style=\"fill:#000000;fill-opacity:1;fill-rule:evenodd;stroke:#000000;stroke-width:1pt;stroke-opacity:1\" transform=\"matrix(0.4,0,0,0.4,4,0)\"/>\n",
       "    </marker>\n",
       "    <marker id=\"Arrow1Mend-8-9\" inkscape:isstock=\"true\" inkscape:stockid=\"Arrow1Mend\" orient=\"auto\" refX=\"0\" refY=\"0\" style=\"overflow:visible\">\n",
       "      <path d=\"M 0,0 5,-5 -12.5,0 5,5 0,0 Z\" id=\"path4437-9-2\" inkscape:connector-curvature=\"0\" style=\"fill:#000000;fill-opacity:1;fill-rule:evenodd;stroke:#000000;stroke-width:1pt;stroke-opacity:1\" transform=\"matrix(-0.4,0,0,-0.4,-4,0)\"/>\n",
       "    </marker>\n",
       "    <marker id=\"Arrow1Mstart-1-9\" inkscape:isstock=\"true\" inkscape:stockid=\"Arrow1Mstart\" orient=\"auto\" refX=\"0\" refY=\"0\" style=\"overflow:visible\">\n",
       "      <path d=\"M 0,0 5,-5 -12.5,0 5,5 0,0 Z\" id=\"path4434-7-45\" inkscape:connector-curvature=\"0\" style=\"fill:#000000;fill-opacity:1;fill-rule:evenodd;stroke:#000000;stroke-width:1pt;stroke-opacity:1\" transform=\"matrix(0.4,0,0,0.4,4,0)\"/>\n",
       "    </marker>\n",
       "    <marker id=\"Arrow1Mend-8-93\" inkscape:isstock=\"true\" inkscape:stockid=\"Arrow1Mend\" orient=\"auto\" refX=\"0\" refY=\"0\" style=\"overflow:visible\">\n",
       "      <path d=\"M 0,0 5,-5 -12.5,0 5,5 0,0 Z\" id=\"path4437-9-5\" inkscape:connector-curvature=\"0\" style=\"fill:#000000;fill-opacity:1;fill-rule:evenodd;stroke:#000000;stroke-width:1pt;stroke-opacity:1\" transform=\"matrix(-0.4,0,0,-0.4,-4,0)\"/>\n",
       "    </marker>\n",
       "    <marker id=\"Arrow1Mstart-1-9-9\" inkscape:isstock=\"true\" inkscape:stockid=\"Arrow1Mstart\" orient=\"auto\" refX=\"0\" refY=\"0\" style=\"overflow:visible\">\n",
       "      <path d=\"M 0,0 5,-5 -12.5,0 5,5 0,0 Z\" id=\"path4434-7-45-7\" inkscape:connector-curvature=\"0\" style=\"fill:#000000;fill-opacity:1;fill-rule:evenodd;stroke:#000000;stroke-width:1pt;stroke-opacity:1\" transform=\"matrix(0.4,0,0,0.4,4,0)\"/>\n",
       "    </marker>\n",
       "    <marker id=\"Arrow1Mend-8-93-5\" inkscape:isstock=\"true\" inkscape:stockid=\"Arrow1Mend\" orient=\"auto\" refX=\"0\" refY=\"0\" style=\"overflow:visible\">\n",
       "      <path d=\"M 0,0 5,-5 -12.5,0 5,5 0,0 Z\" id=\"path4437-9-5-9\" inkscape:connector-curvature=\"0\" style=\"fill:#000000;fill-opacity:1;fill-rule:evenodd;stroke:#000000;stroke-width:1pt;stroke-opacity:1\" transform=\"matrix(-0.4,0,0,-0.4,-4,0)\"/>\n",
       "    </marker>\n",
       "    <marker id=\"Arrow1Mstart-1-5-3\" inkscape:isstock=\"true\" inkscape:stockid=\"Arrow1Mstart\" orient=\"auto\" refX=\"0\" refY=\"0\" style=\"overflow:visible\">\n",
       "      <path d=\"M 0,0 5,-5 -12.5,0 5,5 0,0 Z\" id=\"path4434-7-4-8\" inkscape:connector-curvature=\"0\" style=\"fill:#000000;fill-opacity:1;fill-rule:evenodd;stroke:#000000;stroke-width:1pt;stroke-opacity:1\" transform=\"matrix(0.4,0,0,0.4,4,0)\"/>\n",
       "    </marker>\n",
       "    <marker id=\"Arrow1Mend-8-9-3\" inkscape:isstock=\"true\" inkscape:stockid=\"Arrow1Mend\" orient=\"auto\" refX=\"0\" refY=\"0\" style=\"overflow:visible\">\n",
       "      <path d=\"M 0,0 5,-5 -12.5,0 5,5 0,0 Z\" id=\"path4437-9-2-7\" inkscape:connector-curvature=\"0\" style=\"fill:#000000;fill-opacity:1;fill-rule:evenodd;stroke:#000000;stroke-width:1pt;stroke-opacity:1\" transform=\"matrix(-0.4,0,0,-0.4,-4,0)\"/>\n",
       "    </marker>\n",
       "    <marker id=\"marker6628-5\" inkscape:collect=\"always\" inkscape:isstock=\"true\" inkscape:stockid=\"Arrow1Mend\" orient=\"auto\" refX=\"0\" refY=\"0\" style=\"overflow:visible\">\n",
       "      <path d=\"M 0,0 5,-5 -12.5,0 5,5 0,0 Z\" id=\"path6630-1\" inkscape:connector-curvature=\"0\" style=\"fill:#000000;fill-opacity:1;fill-rule:evenodd;stroke:#000000;stroke-width:1pt;stroke-opacity:1\" transform=\"matrix(-0.4,0,0,-0.4,-4,0)\"/>\n",
       "    </marker>\n",
       "    <marker id=\"marker6702-4\" inkscape:isstock=\"true\" inkscape:stockid=\"Arrow1Mend\" orient=\"auto\" refX=\"0\" refY=\"0\" style=\"overflow:visible\">\n",
       "      <path d=\"M 0,0 5,-5 -12.5,0 5,5 0,0 Z\" id=\"path6704-3\" inkscape:connector-curvature=\"0\" style=\"fill:#000000;fill-opacity:1;fill-rule:evenodd;stroke:#000000;stroke-width:1pt;stroke-opacity:1\" transform=\"matrix(-0.4,0,0,-0.4,-4,0)\"/>\n",
       "    </marker>\n",
       "    <marker id=\"marker6702-46\" inkscape:isstock=\"true\" inkscape:stockid=\"Arrow1Mend\" orient=\"auto\" refX=\"0\" refY=\"0\" style=\"overflow:visible\">\n",
       "      <path d=\"M 0,0 5,-5 -12.5,0 5,5 0,0 Z\" id=\"path6704-9\" inkscape:connector-curvature=\"0\" style=\"fill:#000000;fill-opacity:1;fill-rule:evenodd;stroke:#000000;stroke-width:1pt;stroke-opacity:1\" transform=\"matrix(-0.4,0,0,-0.4,-4,0)\"/>\n",
       "    </marker>\n",
       "    <marker id=\"Arrow2Mend-0\" inkscape:isstock=\"true\" inkscape:stockid=\"Arrow2Mend\" orient=\"auto\" refX=\"0\" refY=\"0\" style=\"overflow:visible\">\n",
       "      <path d=\"M 8.7185878,4.0337352 -2.2072895,0.01601326 8.7185884,-4.0017078 c -1.7454984,2.3720609 -1.7354408,5.6174519 -6e-7,8.035443 z\" id=\"path4408-7\" inkscape:connector-curvature=\"0\" style=\"fill:#000000;fill-opacity:1;fill-rule:evenodd;stroke:#000000;stroke-width:0.625;stroke-linejoin:round;stroke-opacity:1\" transform=\"scale(-0.6,-0.6)\"/>\n",
       "    </marker>\n",
       "  </defs>\n",
       "  <metadata id=\"metadata7\">\n",
       "    <rdf:RDF>\n",
       "      <cc:Work rdf:about=\"\">\n",
       "        <dc:format>image/svg+xml</dc:format>\n",
       "        <dc:type rdf:resource=\"http://purl.org/dc/dcmitype/StillImage\"/>\n",
       "        <dc:title/>\n",
       "      </cc:Work>\n",
       "    </rdf:RDF>\n",
       "  </metadata>\n",
       "  <g id=\"layer1\" inkscape:groupmode=\"layer\" inkscape:label=\"Layer 1\" transform=\"translate(-10.218045,-487.65072)\">\n",
       "    <path d=\"m 520.89173,760.80901 -78.13083,26.55874 c 0,0 -34.24914,13.27936 -34.24914,37.8462 0,24.56682 33.17886,40.50206 33.17886,40.50206 l 384.76759,0 52.97905,-85.65191 0,-243.01241 -186.76473,0.66398 -0.53515,22.57492 -17.12456,0 c 0,0 -58.86569,-1.32794 -102.21225,53.11747 C 529.45401,667.85345 551.93,759.48108 551.93,759.48108 Z\" id=\"path3359\" inkscape:connector-curvature=\"0\" sodipodi:nodetypes=\"ccscccccccscc\" style=\"fill:none;fill-rule:evenodd;stroke:#000000;stroke-width:0.59009439px;stroke-linecap:butt;stroke-linejoin:miter;stroke-opacity:1\"/>\n",
       "    <rect height=\"336.38092\" id=\"rect3371\" style=\"fill:none;stroke:#000000;stroke-width:0.92798185;stroke-miterlimit:4;stroke-dasharray:none;stroke-opacity:1\" width=\"315.77106\" x=\"35.484516\" y=\"532.18347\"/>\n",
       "    <path d=\"M 352.1255,761.48819 36.354407,762.49834\" id=\"path4177\" inkscape:connector-curvature=\"0\" style=\"fill:none;fill-rule:evenodd;stroke:#000000;stroke-width:0.92798185px;stroke-linecap:butt;stroke-linejoin:miter;stroke-opacity:1\"/>\n",
       "    <path d=\"m 85.138324,716.14831 12.178501,-14.14213 25.226905,63.63962 13.04838,-9.09137 z\" id=\"path4179\" inkscape:connector-curvature=\"0\" sodipodi:nodetypes=\"ccccc\" style=\"fill:none;fill-rule:evenodd;stroke:#000000;stroke-width:0.92798185px;stroke-linecap:butt;stroke-linejoin:miter;stroke-opacity:1\"/>\n",
       "    <path d=\"m 85.138324,750.49352 13.918287,15.15229 28.706469,-62.62948 10.43871,20.20305 z\" id=\"path4181\" inkscape:connector-curvature=\"0\" style=\"fill:none;fill-rule:evenodd;stroke:#000000;stroke-width:0.92798185px;stroke-linecap:butt;stroke-linejoin:miter;stroke-opacity:1\"/>\n",
       "    <path d=\"m 248.10788,715.83047 12.17849,-14.14213 25.2269,63.63962 13.04839,-9.09137 z\" id=\"path4179-3\" inkscape:connector-curvature=\"0\" sodipodi:nodetypes=\"ccccc\" style=\"fill:none;fill-rule:evenodd;stroke:#000000;stroke-width:0.92798185px;stroke-linecap:butt;stroke-linejoin:miter;stroke-opacity:1\"/>\n",
       "    <path d=\"m 248.10788,750.17568 13.91828,15.15229 28.70646,-62.62948 10.43871,20.20305 z\" id=\"path4181-6\" inkscape:connector-curvature=\"0\" style=\"fill:none;fill-rule:evenodd;stroke:#000000;stroke-width:0.92798185px;stroke-linecap:butt;stroke-linejoin:miter;stroke-opacity:1\"/>\n",
       "    <text id=\"text4201\" sodipodi:linespacing=\"125%\" style=\"font-style:normal;font-variant:normal;font-weight:normal;font-stretch:normal;font-size:33.97488785px;line-height:125%;font-family:cmr10;-inkscape-font-specification:'cmr10, Normal';text-align:start;letter-spacing:0px;word-spacing:0px;writing-mode:lr-tb;text-anchor:start;fill:#000000;fill-opacity:1;stroke:none;stroke-width:1px;stroke-linecap:butt;stroke-linejoin:miter;stroke-opacity:1\" transform=\"scale(1.0138521,0.98633714)\" x=\"103.59274\" xml:space=\"preserve\" y=\"525.36188\"><tspan id=\"tspan5491\" sodipodi:role=\"line\" x=\"103.59274\" y=\"525.36188\">Back View</tspan></text>\n",
       "    <text id=\"text4205\" sodipodi:linespacing=\"125%\" style=\"font-style:normal;font-variant:normal;font-weight:normal;font-stretch:normal;font-size:34.66636276px;line-height:125%;font-family:cmr10;-inkscape-font-specification:'cmr10, Normal';text-align:start;letter-spacing:0px;word-spacing:0px;writing-mode:lr-tb;text-anchor:start;fill:#000000;fill-opacity:1;stroke:none;stroke-width:1px;stroke-linecap:butt;stroke-linejoin:miter;stroke-opacity:1\" transform=\"scale(0.99362925,1.0064116)\" x=\"696.06525\" xml:space=\"preserve\" y=\"517.10211\"><tspan id=\"tspan5493\" sodipodi:role=\"line\" x=\"696.06525\" y=\"517.10211\">Side View</tspan></text>\n",
       "    <path d=\"m 846.87648,685.80794 11.30862,0 -14.78819,90.91375 10.43872,1.01016 z\" id=\"path4314\" inkscape:connector-curvature=\"0\" style=\"fill:none;fill-rule:evenodd;stroke:#000000;stroke-width:0.92798185px;stroke-linecap:butt;stroke-linejoin:miter;stroke-opacity:1\"/>\n",
       "    <path d=\"m 153.78994,552.38654 -1.73979,18.18275 69.59143,-18.18275 0,19.19291 z\" id=\"path4324\" inkscape:connector-curvature=\"0\" style=\"fill:none;fill-rule:evenodd;stroke:#000000;stroke-width:0.92798185px;stroke-linecap:butt;stroke-linejoin:miter;stroke-opacity:1\"/>\n",
       "    <text id=\"text4326\" sodipodi:linespacing=\"0%\" style=\"font-style:normal;font-weight:normal;font-size:40px;line-height:0%;font-family:sans-serif;letter-spacing:0px;word-spacing:0px;fill:#000000;fill-opacity:1;stroke:none;stroke-width:1px;stroke-linecap:butt;stroke-linejoin:miter;stroke-opacity:1\" x=\"129.29953\" xml:space=\"preserve\" y=\"502.83923\"><tspan id=\"tspan4328\" sodipodi:role=\"line\" x=\"129.29953\" y=\"502.83923\"/></text>\n",
       "    <text id=\"text4330\" sodipodi:linespacing=\"125%\" style=\"font-style:normal;font-weight:normal;font-size:22.93920898px;line-height:125%;font-family:sans-serif;letter-spacing:0px;word-spacing:0px;fill:#000000;fill-opacity:1;stroke:none;stroke-width:1px;stroke-linecap:butt;stroke-linejoin:miter;stroke-opacity:1\" transform=\"scale(1.03516,0.96603422)\" x=\"101.88265\" xml:space=\"preserve\" y=\"723.50958\"><tspan id=\"tspan4332\" sodipodi:role=\"line\" x=\"101.88265\" y=\"723.50958\">1</tspan></text>\n",
       "    <text id=\"text4334\" sodipodi:linespacing=\"125%\" style=\"font-style:normal;font-weight:normal;font-size:20.48081207px;line-height:125%;font-family:sans-serif;letter-spacing:0px;word-spacing:0px;fill:#000000;fill-opacity:1;stroke:none;stroke-width:1px;stroke-linecap:butt;stroke-linejoin:miter;stroke-opacity:1\" transform=\"scale(1.0939428,0.91412458)\" x=\"244.85809\" xml:space=\"preserve\" y=\"761.31311\"><tspan id=\"tspan4336\" sodipodi:role=\"line\" x=\"244.85809\" y=\"761.31311\">2</tspan></text>\n",
       "    <text id=\"text4338\" sodipodi:linespacing=\"125%\" style=\"font-style:normal;font-weight:normal;font-size:19.55318832px;line-height:125%;font-family:sans-serif;letter-spacing:0px;word-spacing:0px;fill:#000000;fill-opacity:1;stroke:none;stroke-width:1px;stroke-linecap:butt;stroke-linejoin:miter;stroke-opacity:1\" transform=\"scale(1.2667484,0.78942275)\" x=\"128.92329\" xml:space=\"preserve\" y=\"738.40894\"><tspan id=\"tspan4340\" sodipodi:role=\"line\" x=\"128.92329\" y=\"738.40894\">3</tspan></text>\n",
       "    <text id=\"text4342\" sodipodi:linespacing=\"125%\" style=\"font-style:normal;font-weight:normal;font-size:40px;line-height:125%;font-family:sans-serif;letter-spacing:0px;word-spacing:0px;fill:#000000;fill-opacity:1;stroke:none;stroke-width:1px;stroke-linecap:butt;stroke-linejoin:miter;stroke-opacity:1\" x=\"708\" xml:space=\"preserve\" y=\"499.36221\"><tspan id=\"tspan4344\" sodipodi:role=\"line\" x=\"708\" y=\"499.36221\"/></text>\n",
       "    <text id=\"text4346\" sodipodi:linespacing=\"125%\" style=\"font-style:normal;font-weight:normal;font-size:40px;line-height:125%;font-family:sans-serif;text-align:start;letter-spacing:0px;word-spacing:0px;writing-mode:lr-tb;text-anchor:start;fill:#000000;fill-opacity:1;stroke:none;stroke-width:1px;stroke-linecap:butt;stroke-linejoin:miter;stroke-opacity:1\" x=\"688.35706\" xml:space=\"preserve\" y=\"475.47995\"><tspan id=\"tspan4348\" sodipodi:role=\"line\" x=\"688.35706\" y=\"475.47995\"/></text>\n",
       "    <g id=\"g9874\" transform=\"matrix(0.86114995,0,0,1.0000003,-11.380688,169.06996)\">\n",
       "      <g id=\"g9867\">\n",
       "        <ellipse cx=\"767.71594\" cy=\"504.35446\" id=\"path4273\" rx=\"13.853377\" ry=\"13.348301\" style=\"fill:none;stroke:#000000;stroke-width:3.59782314;stroke-miterlimit:4;stroke-dasharray:none;stroke-dashoffset:0;stroke-opacity:1\"/>\n",
       "        <path d=\"m 767.71593,515.9712 1.01016,-27.27412\" id=\"path4277\" inkscape:connector-curvature=\"0\" style=\"fill:none;fill-rule:evenodd;stroke:#000000;stroke-width:1px;stroke-linecap:butt;stroke-linejoin:miter;stroke-opacity:1\"/>\n",
       "        <path d=\"m 754.58395,503.84937 27.27412,0\" id=\"path4279\" inkscape:connector-curvature=\"0\" style=\"fill:#000000;fill-rule:evenodd;stroke:#000000;stroke-width:1px;stroke-linecap:butt;stroke-linejoin:miter;stroke-opacity:1\"/>\n",
       "        <path d=\"m 757.43525,191.25394 c 1.50614,-2.91256 6.09172,-6.07802 8.80479,-6.07802 0.94473,0 1.21732,1.29266 0.9586,4.54569 l -0.36154,4.54569 -5.48006,0 -5.48006,0 1.55827,-3.01336 z\" id=\"path4281\" inkscape:connector-curvature=\"0\" style=\"fill:#000000;stroke:#000000;stroke-width:3.6343503;stroke-miterlimit:4;stroke-dasharray:none;stroke-dashoffset:0;stroke-opacity:1\" transform=\"translate(0,308.26772)\"/>\n",
       "        <path d=\"m 769.06084,201.90306 0,-5.61546 5.05076,0 c 5.43345,0 5.85406,0.56723 3.62172,4.88411 -1.21345,2.34655 -2.84022,3.57708 -7.91486,5.98701 -0.41669,0.19789 -0.75762,-2.16716 -0.75762,-5.25566 z\" id=\"path4285\" inkscape:connector-curvature=\"0\" style=\"fill:#000000;stroke:#000000;stroke-width:3.6343503;stroke-miterlimit:4;stroke-dasharray:none;stroke-dashoffset:0;stroke-opacity:1\" transform=\"translate(0,308.26772)\"/>\n",
       "      </g>\n",
       "      <text id=\"text4350\" sodipodi:linespacing=\"125%\" style=\"font-style:normal;font-weight:normal;font-size:21.24839592px;line-height:125%;font-family:sans-serif;text-align:start;letter-spacing:0px;word-spacing:0px;writing-mode:lr-tb;text-anchor:start;fill:#000000;fill-opacity:1;stroke:none;stroke-width:1px;stroke-linecap:butt;stroke-linejoin:miter;stroke-opacity:1\" transform=\"scale(0.9847804,1.0154548)\" x=\"804.79089\" xml:space=\"preserve\" y=\"500.51886\"><tspan id=\"tspan4352\" sodipodi:role=\"line\" x=\"804.79089\" y=\"500.51886\">COB</tspan></text>\n",
       "    </g>\n",
       "    <g id=\"g4409\" transform=\"matrix(0.86114995,0,0,1.0000003,0.6188801,176.50162)\">\n",
       "      <ellipse cx=\"783.87836\" cy=\"561.69244\" id=\"path4273-7\" rx=\"13.853377\" ry=\"13.348301\" style=\"fill:none;stroke:#000000;stroke-width:3.59782314;stroke-miterlimit:4;stroke-dasharray:none;stroke-dashoffset:0;stroke-opacity:1\"/>\n",
       "      <path d=\"m 783.87836,573.30916 1.01016,-27.27412\" id=\"path4277-9\" inkscape:connector-curvature=\"0\" style=\"fill:none;fill-rule:evenodd;stroke:#000000;stroke-width:1px;stroke-linecap:butt;stroke-linejoin:miter;stroke-opacity:1\"/>\n",
       "      <path d=\"m 770.74638,561.18733 27.27412,0\" id=\"path4279-3\" inkscape:connector-curvature=\"0\" style=\"fill:#000000;fill-rule:evenodd;stroke:#000000;stroke-width:1px;stroke-linecap:butt;stroke-linejoin:miter;stroke-opacity:1\"/>\n",
       "      <path d=\"m 773.59768,556.85962 c 1.50614,-2.91256 6.09172,-6.07802 8.80479,-6.07802 0.94473,0 1.21732,1.29266 0.9586,4.54569 l -0.36154,4.54569 -5.48006,0 -5.48006,0 1.55827,-3.01336 z\" id=\"path4281-9\" inkscape:connector-curvature=\"0\" style=\"fill:#000000;stroke:#000000;stroke-width:3.6343503;stroke-miterlimit:4;stroke-dasharray:none;stroke-dashoffset:0;stroke-opacity:1\"/>\n",
       "      <path d=\"m 785.22327,567.50874 0,-5.61546 5.05076,0 c 5.43345,0 5.85406,0.56723 3.62172,4.88411 -1.21345,2.34655 -2.84022,3.57708 -7.91486,5.98701 -0.41669,0.19789 -0.75762,-2.16716 -0.75762,-5.25566 z\" id=\"path4285-2\" inkscape:connector-curvature=\"0\" style=\"fill:#000000;stroke:#000000;stroke-width:3.6343503;stroke-miterlimit:4;stroke-dasharray:none;stroke-dashoffset:0;stroke-opacity:1\"/>\n",
       "      <text id=\"text4354\" sodipodi:linespacing=\"125%\" style=\"font-style:normal;font-weight:normal;font-size:20.65105629px;line-height:125%;font-family:sans-serif;text-align:start;letter-spacing:0px;word-spacing:0px;writing-mode:lr-tb;text-anchor:start;fill:#000000;fill-opacity:1;stroke:none;stroke-width:1px;stroke-linecap:butt;stroke-linejoin:miter;stroke-opacity:1\" transform=\"scale(1.0148651,0.98535264)\" x=\"791.91608\" xml:space=\"preserve\" y=\"562.96552\"><tspan id=\"tspan4356\" sodipodi:role=\"line\" x=\"791.91608\" y=\"562.96552\">COM</tspan></text>\n",
       "    </g>\n",
       "    <path d=\"m 737.16727,555.05762 -1.73978,18.18274 69.59142,-18.18274 0,19.1929 z\" id=\"path4324-8\" inkscape:connector-curvature=\"0\" style=\"fill:none;fill-rule:evenodd;stroke:#000000;stroke-width:0.92798185px;stroke-linecap:butt;stroke-linejoin:miter;stroke-opacity:1\"/>\n",
       "    <path d=\"m 768.58399,530.29461 3.21437,350.2044\" id=\"path4403\" inkscape:connector-curvature=\"0\" style=\"fill:none;fill-rule:evenodd;stroke:#000000;stroke-width:0.66205871;stroke-linecap:butt;stroke-linejoin:miter;stroke-miterlimit:4;stroke-dasharray:1.32411739, 0.66205869;stroke-dashoffset:0;stroke-opacity:1\"/>\n",
       "    <path d=\"m 850.98612,513.57053 0.80428,365.07351\" id=\"path4405\" inkscape:connector-curvature=\"0\" style=\"fill:none;fill-rule:evenodd;stroke:#000000;stroke-width:0.66952628;stroke-linecap:butt;stroke-linejoin:miter;stroke-miterlimit:4;stroke-dasharray:1.33905259, 0.66952629;stroke-dashoffset:0;stroke-opacity:1\"/>\n",
       "    <path d=\"M 890.18691,736.51686 10.218535,737.44582\" id=\"path4407\" inkscape:connector-curvature=\"0\" style=\"fill:none;fill-rule:evenodd;stroke:#000000;stroke-width:0.92798185;stroke-linecap:butt;stroke-linejoin:miter;stroke-miterlimit:4;stroke-dasharray:1.85596364, 0.92798182;stroke-dashoffset:0;stroke-opacity:1\"/>\n",
       "    <path d=\"m 187.01217,523.78566 -1.59994,388.30413\" id=\"path4418\" inkscape:connector-curvature=\"0\" style=\"fill:none;fill-rule:evenodd;stroke:#000000;stroke-width:0.92798185;stroke-linecap:butt;stroke-linejoin:miter;stroke-miterlimit:4;stroke-dasharray:1.85596364, 0.92798182;stroke-dashoffset:0;stroke-opacity:1\"/>\n",
       "    <path d=\"m 274.20903,736.51687 -1.59994,180.21771\" id=\"path4420\" inkscape:connector-curvature=\"0\" style=\"fill:none;fill-rule:evenodd;stroke:#000000;stroke-width:0.92798185;stroke-linecap:butt;stroke-linejoin:miter;stroke-miterlimit:4;stroke-dasharray:0.92798182, 2.78394546;stroke-dashoffset:0;stroke-opacity:1\"/>\n",
       "    <path d=\"m 671.79472,769.95934 -16.7994,0\" id=\"path4422\" inkscape:connector-curvature=\"0\" style=\"fill:none;fill-rule:evenodd;stroke:#000000;stroke-width:0.5567891;stroke-linecap:butt;stroke-linejoin:miter;stroke-miterlimit:4;stroke-dasharray:none;stroke-opacity:1;marker-start:url(#Arrow1Mstart);marker-end:url(#Arrow1Mend)\"/>\n",
       "    <path d=\"m 267.24093,893.04616 -76.46055,0\" id=\"path4422-1\" inkscape:connector-curvature=\"0\" style=\"fill:none;fill-rule:evenodd;stroke:#000000;stroke-width:0.46399093;stroke-linecap:butt;stroke-linejoin:miter;stroke-miterlimit:4;stroke-dasharray:none;stroke-opacity:1;marker-start:url(#Arrow1Mstart-1);marker-end:url(#Arrow1Mend-8)\"/>\n",
       "    <flowRoot id=\"flowRoot6211\" style=\"font-style:normal;font-weight:normal;font-size:40px;line-height:125%;font-family:sans-serif;text-align:start;letter-spacing:0px;word-spacing:0px;writing-mode:lr-tb;text-anchor:start;fill:#000000;fill-opacity:1;stroke:none;stroke-width:1px;stroke-linecap:butt;stroke-linejoin:miter;stroke-opacity:1\" xml:space=\"preserve\"><flowRegion id=\"flowRegion6213\"><rect height=\"51.092628\" id=\"rect6215\" width=\"88.250908\" x=\"224.80757\" y=\"436.60974\"/></flowRegion><flowPara id=\"flowPara6217\"/></flowRoot>    <path d=\"m 130.21422,560.94395 717.57416,2.78687\" id=\"path6227\" inkscape:connector-curvature=\"0\" style=\"fill:none;fill-rule:evenodd;stroke:#000000;stroke-width:0.92798185;stroke-linecap:butt;stroke-linejoin:miter;stroke-miterlimit:4;stroke-dasharray:1.85596364, 0.92798182;stroke-dashoffset:0;stroke-opacity:1\"/>\n",
       "    <path d=\"m 411.69294,574.62376 0.22229,145.4264\" id=\"path4422-1-5\" inkscape:connector-curvature=\"0\" style=\"fill:none;fill-rule:evenodd;stroke:#000000;stroke-width:0.50428838;stroke-linecap:butt;stroke-linejoin:miter;stroke-miterlimit:4;stroke-dasharray:none;stroke-opacity:1;marker-start:url(#Arrow1Mstart-1-5);marker-end:url(#Arrow1Mend-8-9)\"/>\n",
       "    <path d=\"m 676.59108,495.92124 1.60687,377.14804\" id=\"path7325\" inkscape:connector-curvature=\"0\" style=\"fill:none;fill-rule:evenodd;stroke:#000000;stroke-width:0.72393715;stroke-linecap:butt;stroke-linejoin:miter;stroke-miterlimit:4;stroke-dasharray:1.44787433, 0.72393716;stroke-dashoffset:0;stroke-opacity:1\"/>\n",
       "    <path d=\"m 761.22315,820.98165 -76.46055,0\" id=\"path4422-1-7\" inkscape:connector-curvature=\"0\" style=\"fill:none;fill-rule:evenodd;stroke:#000000;stroke-width:0.46399093;stroke-linecap:butt;stroke-linejoin:miter;stroke-miterlimit:4;stroke-dasharray:none;stroke-opacity:1;marker-start:url(#Arrow1Mstart-1-9);marker-end:url(#Arrow1Mend-8-93)\"/>\n",
       "    <path d=\"m 839.99895,785.96386 -154.81501,0\" id=\"path4422-1-7-7\" inkscape:connector-curvature=\"0\" style=\"fill:none;fill-rule:evenodd;stroke:#000000;stroke-width:0.64588475;stroke-linecap:butt;stroke-linejoin:miter;stroke-miterlimit:4;stroke-dasharray:none;stroke-opacity:1;marker-start:url(#Arrow1Mstart-1-9-9);marker-end:url(#Arrow1Mend-8-93-5)\"/>\n",
       "    <path d=\"m 664.59498,673.34777 -66.39761,-0.92896\" id=\"path9884\" inkscape:connector-curvature=\"0\" style=\"fill:none;fill-rule:evenodd;stroke:#000000;stroke-width:0.92798185;stroke-linecap:butt;stroke-linejoin:miter;stroke-miterlimit:4;stroke-dasharray:1.85596364, 0.92798182;stroke-dashoffset:0;stroke-opacity:1\"/>\n",
       "    <path d=\"m 602.79088,676.19986 0.10945,57.46493\" id=\"path4422-1-5-9\" inkscape:connector-curvature=\"0\" style=\"fill:none;fill-rule:evenodd;stroke:#000000;stroke-width:0.22245087;stroke-linecap:butt;stroke-linejoin:miter;stroke-miterlimit:4;stroke-dasharray:none;stroke-opacity:1;marker-start:url(#Arrow1Mstart-1-5-3);marker-end:url(#Arrow1Mend-8-9-3)\"/>\n",
       "    <path d=\"m 650.19549,639.90532 0,139.34358\" id=\"path10838\" inkscape:connector-curvature=\"0\" style=\"fill:none;fill-rule:evenodd;stroke:#000000;stroke-width:0.92798185;stroke-linecap:butt;stroke-linejoin:miter;stroke-miterlimit:4;stroke-dasharray:1.85596364, 0.92798182;stroke-dashoffset:0;stroke-opacity:1\"/>\n",
       "    <g font-size-adjust=\"none\" font-stretch=\"normal\" font-style=\"normal\" font-variant=\"normal\" font-weight=\"normal\" id=\"content\" letter-spacing=\"normal\" ns0:preamble=\"/home/cosc/student/oga13/.config/inkscape/extensions/default_packages.tex\" ns0:text=\"$W_h$\" stroke-miterlimit=\"10.433\" style=\"font-style:normal;font-variant:normal;font-weight:normal;font-stretch:normal;letter-spacing:normal;word-spacing:normal;text-anchor:start;fill:#000000;fill-opacity:1;fill-rule:evenodd;stroke:#000000;stroke-linecap:butt;stroke-linejoin:miter;stroke-miterlimit:10.43299961;stroke-dasharray:none;stroke-dashoffset:0;stroke-opacity:1\" transform=\"matrix(1.5059788,0,0,-2.0582499,191.47603,2111.5394)\" word-spacing=\"normal\" xml:space=\"preserve\"><path d=\"m 157.85,712.77 0.04,0.08 0.05,0.08 0.05,0.08 0.05,0.07 0.02,0.04 0.03,0.03 0.03,0.04 0.02,0.03 0.03,0.03 0.03,0.03 0.03,0.03 0.03,0.03 0.03,0.03 0.04,0.02 0.03,0.03 0.04,0.02 0.04,0.03 0.04,0.02 0.04,0.02 0.04,0.02 0.04,0.01 0.05,0.02 0.04,0.01 0.05,0.02 0.06,0.01 0.05,0.01 0.05,0 0.06,0.01 c 0.09,0.01 0.19,0.01 0.19,0.2 0,0.04 -0.04,0.11 -0.12,0.11 -0.24,0 -0.52,-0.03 -0.77,-0.03 -0.33,0 -0.7,0.03 -1.03,0.03 -0.06,0 -0.19,0 -0.19,-0.19 0,-0.11 0.09,-0.12 0.15,-0.12 0.24,-0.01 0.59,-0.09 0.59,-0.39 0,-0.11 -0.05,-0.19 -0.13,-0.33 l -2.69,-4.69 -0.37,4.94 c -0.01,0.2 -0.03,0.46 0.7,0.47 0.17,0 0.26,0 0.26,0.2 0,0.1 -0.1,0.11 -0.15,0.11 -0.39,0 -0.81,-0.03 -1.21,-0.03 -0.23,0 -0.82,0.03 -1.05,0.03 -0.06,0 -0.19,0 -0.19,-0.2 0,-0.11 0.1,-0.11 0.24,-0.11 0.44,0 0.51,-0.06 0.53,-0.25 l 0.06,-0.77 -2.52,-4.39 -0.38,5.05 c 0,0.12 0,0.35 0.76,0.36 0.1,0 0.21,0 0.21,0.2 0,0.11 -0.12,0.11 -0.14,0.11 -0.4,0 -0.82,-0.03 -1.23,-0.03 -0.35,0 -0.7,0.03 -1.04,0.03 -0.05,0 -0.18,0 -0.18,-0.19 0,-0.12 0.09,-0.12 0.25,-0.12 0.5,0 0.5,-0.09 0.53,-0.37 l 0.44,-6.09 c 0.01,-0.18 0.02,-0.26 0.16,-0.26 0.12,0 0.15,0.06 0.24,0.21 l 2.93,5.08 0.37,-5.03 c 0.02,-0.21 0.04,-0.26 0.16,-0.26 0.13,0 0.19,0.1 0.24,0.19 z\" id=\"path4906\" inkscape:connector-curvature=\"0\" style=\"fill:#000000;stroke-width:0\"/><path d=\"m 160.3,710.26 0.01,0 0,0 0,0 0,0 0,0.01 0,0 0,0 0,0 0,0 0,0.01 0,0 0,0 0,0.01 0,0 0.01,0.01 0,0 0,0.01 0,0 0,0.01 0,0.01 0,0 0.01,0.01 0,0 0,0.01 0,0 0,0 0,0.01 0,0 0,0 0,0 0,0 0,0.01 0,0 0,0 0,0 0,0 0,0 0,0 0,0 0,0 c 0,0.04 -0.03,0.1 -0.11,0.1 -0.14,0 -0.72,-0.06 -0.89,-0.07 -0.06,-0.01 -0.15,-0.01 -0.15,-0.16 0,-0.1 0.09,-0.1 0.18,-0.1 0.33,0 0.33,-0.05 0.33,-0.1 0,-0.05 -0.01,-0.09 -0.03,-0.16 l -0.98,-3.94 c -0.03,-0.13 -0.03,-0.14 -0.03,-0.16 0,-0.1 0.08,-0.22 0.23,-0.22 0.08,0 0.21,0.03 0.29,0.18 0.02,0.04 0.08,0.29 0.12,0.44 l 0.16,0.62 c 0.02,0.11 0.09,0.37 0.11,0.48 0.07,0.26 0.07,0.27 0.21,0.49 0.22,0.34 0.57,0.74 1.11,0.74 0.39,0 0.42,-0.32 0.42,-0.49 0,-0.42 -0.3,-1.19 -0.42,-1.48 -0.07,-0.2 -0.1,-0.26 -0.1,-0.38 0,-0.37 0.31,-0.6 0.66,-0.6 0.7,0 1.01,0.96 1.01,1.07 0,0.09 -0.09,0.09 -0.11,0.09 -0.1,0 -0.11,-0.04 -0.14,-0.12 -0.16,-0.56 -0.46,-0.84 -0.74,-0.84 -0.14,0 -0.17,0.09 -0.17,0.24 0,0.16 0.03,0.25 0.16,0.57 0.08,0.21 0.37,0.95 0.37,1.34 0,0.11 0,0.41 -0.26,0.61 -0.12,0.09 -0.32,0.19 -0.65,0.19 -0.51,0 -0.88,-0.28 -1.14,-0.58 z\" id=\"path4908\" inkscape:connector-curvature=\"0\" style=\"fill:#000000;stroke-width:0\"/></g>    <g font-size-adjust=\"none\" font-stretch=\"normal\" font-style=\"normal\" font-variant=\"normal\" font-weight=\"normal\" id=\"g5129\" letter-spacing=\"normal\" ns0:preamble=\"/home/cosc/student/oga13/.config/inkscape/extensions/default_packages.tex\" ns0:text=\"$T_1$\" stroke-miterlimit=\"10.433\" style=\"font-style:normal;font-variant:normal;font-weight:normal;font-stretch:normal;letter-spacing:normal;word-spacing:normal;text-anchor:start;fill:#000000;fill-opacity:1;fill-rule:evenodd;stroke:#000000;stroke-linecap:butt;stroke-linejoin:miter;stroke-miterlimit:10.43299961;stroke-dasharray:none;stroke-dashoffset:0;stroke-opacity:1\" transform=\"matrix(1.81778,0,0,-1.8839573,439.75134,2133.5224)\" word-spacing=\"normal\" xml:space=\"preserve\"><path d=\"m 152.96,713.17 0.01,0.03 0.01,0.02 0,0.02 0.01,0.02 0.01,0.03 0,0.02 0.01,0.01 0,0.02 0.01,0.02 0,0.01 0.01,0.02 0.01,0.01 0,0.01 0.01,0.02 0,0.01 0.01,0.01 0.01,0.01 0,0.01 0.01,0 0.01,0.01 0,0.01 0.01,0.01 0.01,0 0.01,0.01 0.01,0 0,0.01 0.01,0 0.01,0.01 0.01,0 0.01,0 0.01,0.01 0.01,0 c 0.09,0.02 0.42,0.02 0.63,0.02 1.01,0 1.45,-0.04 1.45,-0.82 0,-0.15 -0.03,-0.54 -0.07,-0.8 -0.01,-0.03 -0.03,-0.16 -0.03,-0.18 0,-0.06 0.03,-0.13 0.12,-0.13 0.11,0 0.12,0.08 0.14,0.22 l 0.27,1.74 c 0.01,0.04 0.02,0.14 0.02,0.17 0,0.11 -0.1,0.11 -0.26,0.11 l -5.53,0 c -0.24,0 -0.25,-0.01 -0.32,-0.2 l -0.6,-1.76 c -0.01,-0.01 -0.06,-0.15 -0.06,-0.18 0,-0.06 0.05,-0.1 0.12,-0.1 0.1,0 0.11,0.04 0.17,0.21 0.54,1.54 0.8,1.72 2.27,1.72 l 0.39,0 c 0.28,0 0.28,-0.04 0.28,-0.12 0,-0.06 -0.03,-0.18 -0.04,-0.21 l -1.34,-5.32 c -0.09,-0.37 -0.12,-0.48 -1.18,-0.48 -0.36,0 -0.42,0 -0.42,-0.19 0,-0.12 0.11,-0.12 0.17,-0.12 0.27,0 0.54,0.02 0.81,0.02 0.28,0 0.57,0.01 0.85,0.01 0.28,0 0.56,-0.01 0.83,-0.01 0.29,0 0.59,-0.02 0.87,-0.02 0.09,0 0.21,0 0.21,0.2 0,0.11 -0.08,0.11 -0.34,0.11 -0.24,0 -0.37,0 -0.63,0.02 -0.29,0.03 -0.37,0.06 -0.37,0.22 0,0.01 0,0.06 0.04,0.21 z\" id=\"path5131\" inkscape:connector-curvature=\"0\" style=\"fill:#000000;stroke-width:0\"/><path d=\"m 156.87,710.07 0,0 0,0.01 0,0.01 0,0.01 0,0.01 0,0 0,0.01 0,0.01 0,0 0,0.01 0,0.01 0,0 0,0.01 0,0 0,0.01 0,0.01 0,0 0,0.01 -0.01,0 0,0.01 0,0.01 0,0.01 -0.01,0 0,0.01 -0.01,0 0,0.01 -0.01,0 -0.01,0.01 0,0 -0.01,0 -0.01,0 -0.01,0.01 0,0 -0.01,0 -0.01,0 0,0 -0.01,0 0,0 -0.01,0 -0.01,0 0,0 -0.01,0 -0.01,0 0,0 -0.01,0 -0.01,0 -0.01,0 -0.01,0 -0.01,0 -0.01,0 c -0.44,-0.44 -1.08,-0.45 -1.36,-0.45 l 0,-0.25 c 0.16,0 0.63,0 1.01,0.2 l 0,-3.56 c 0,-0.23 0,-0.32 -0.7,-0.32 l -0.26,0 0,-0.25 c 0.12,0.01 0.98,0.03 1.24,0.03 0.21,0 1.09,-0.02 1.25,-0.03 l 0,0.25 -0.27,0 c -0.7,0 -0.7,0.09 -0.7,0.32 z\" id=\"path5133\" inkscape:connector-curvature=\"0\" style=\"fill:#000000;stroke-width:0\"/></g>    <g font-size-adjust=\"none\" font-stretch=\"normal\" font-style=\"normal\" font-variant=\"normal\" font-weight=\"normal\" id=\"g5604\" letter-spacing=\"normal\" ns0:preamble=\"/home/cosc/student/oga13/.config/inkscape/extensions/default_packages.tex\" ns0:text=\"$T_2$\" stroke-miterlimit=\"10.433\" style=\"font-style:normal;font-variant:normal;font-weight:normal;font-stretch:normal;letter-spacing:normal;word-spacing:normal;text-anchor:start;fill:#000000;fill-opacity:1;fill-rule:evenodd;stroke:#000000;stroke-linecap:butt;stroke-linejoin:miter;stroke-miterlimit:10.43299961;stroke-dasharray:none;stroke-dashoffset:0;stroke-opacity:1\" transform=\"matrix(1.776348,0,0,-1.7598891,446.9224,2083.704)\" word-spacing=\"normal\" xml:space=\"preserve\"><path d=\"m 152.96,713.17 0.01,0.03 0.01,0.02 0,0.02 0.01,0.02 0.01,0.03 0,0.02 0.01,0.01 0,0.02 0.01,0.02 0,0.01 0.01,0.02 0.01,0.01 0,0.01 0.01,0.02 0,0.01 0.01,0.01 0.01,0.01 0,0.01 0.01,0 0.01,0.01 0,0.01 0.01,0.01 0.01,0 0.01,0.01 0.01,0 0,0.01 0.01,0 0.01,0.01 0.01,0 0.01,0 0.01,0.01 0.01,0 c 0.09,0.02 0.42,0.02 0.63,0.02 1.01,0 1.45,-0.04 1.45,-0.82 0,-0.15 -0.03,-0.54 -0.07,-0.8 -0.01,-0.03 -0.03,-0.16 -0.03,-0.18 0,-0.06 0.03,-0.13 0.12,-0.13 0.11,0 0.12,0.08 0.14,0.22 l 0.27,1.74 c 0.01,0.04 0.02,0.14 0.02,0.17 0,0.11 -0.1,0.11 -0.26,0.11 l -5.53,0 c -0.24,0 -0.25,-0.01 -0.32,-0.2 l -0.6,-1.76 c -0.01,-0.01 -0.06,-0.15 -0.06,-0.18 0,-0.06 0.05,-0.1 0.12,-0.1 0.1,0 0.11,0.04 0.17,0.21 0.54,1.54 0.8,1.72 2.27,1.72 l 0.39,0 c 0.28,0 0.28,-0.04 0.28,-0.12 0,-0.06 -0.03,-0.18 -0.04,-0.21 l -1.34,-5.32 c -0.09,-0.37 -0.12,-0.48 -1.18,-0.48 -0.36,0 -0.42,0 -0.42,-0.19 0,-0.12 0.11,-0.12 0.17,-0.12 0.27,0 0.54,0.02 0.81,0.02 0.28,0 0.57,0.01 0.85,0.01 0.28,0 0.56,-0.01 0.83,-0.01 0.29,0 0.59,-0.02 0.87,-0.02 0.09,0 0.21,0 0.21,0.2 0,0.11 -0.08,0.11 -0.34,0.11 -0.24,0 -0.37,0 -0.63,0.02 -0.29,0.03 -0.37,0.06 -0.37,0.22 0,0.01 0,0.06 0.04,0.21 z\" id=\"path5606\" inkscape:connector-curvature=\"0\" style=\"fill:#000000;stroke-width:0\"/><path d=\"m 158.06,706.9 -0.24,0 c -0.02,-0.15 -0.09,-0.57 -0.18,-0.63 -0.05,-0.05 -0.59,-0.05 -0.69,-0.05 l -1.28,0 c 0.73,0.65 0.97,0.85 1.39,1.17 0.52,0.42 1,0.85 1,1.51 0,0.84 -0.74,1.36 -1.63,1.36 -0.87,0 -1.45,-0.61 -1.45,-1.25 0,-0.35 0.3,-0.39 0.37,-0.39 0.16,0 0.37,0.12 0.37,0.37 0,0.13 -0.05,0.37 -0.42,0.37 0.22,0.5 0.69,0.65 1.02,0.65 0.7,0 1.06,-0.54 1.06,-1.11 0,-0.61 -0.43,-1.09 -0.65,-1.34 l -1.68,-1.66 c -0.07,-0.06 -0.07,-0.07 -0.07,-0.27 l 2.87,0 z\" id=\"path5608\" inkscape:connector-curvature=\"0\" style=\"fill:#000000;stroke-width:0\"/></g>    <g font-size-adjust=\"none\" font-stretch=\"normal\" font-style=\"normal\" font-variant=\"normal\" font-weight=\"normal\" id=\"g5829\" letter-spacing=\"normal\" ns0:preamble=\"/home/cosc/student/oga13/.config/inkscape/extensions/default_packages.tex\" ns0:text=\"$B_h$\" stroke-miterlimit=\"10.433\" style=\"font-style:normal;font-variant:normal;font-weight:normal;font-stretch:normal;letter-spacing:normal;word-spacing:normal;text-anchor:start;fill:#000000;fill-opacity:1;fill-rule:evenodd;stroke:#000000;stroke-linecap:butt;stroke-linejoin:miter;stroke-miterlimit:10.43299961;stroke-dasharray:none;stroke-dashoffset:0;stroke-opacity:1\" transform=\"matrix(1.5409065,0,0,-1.8901367,375.07482,2044.6904)\" word-spacing=\"normal\" xml:space=\"preserve\"><path d=\"m 150.3,707.9 -0.01,-0.04 0,-0.03 -0.01,-0.03 -0.01,-0.03 -0.01,-0.03 -0.01,-0.03 -0.01,-0.02 -0.01,-0.03 -0.01,-0.02 -0.01,-0.02 -0.02,-0.02 -0.01,-0.02 -0.02,-0.02 -0.01,-0.01 -0.02,-0.02 -0.02,-0.01 -0.02,-0.01 -0.03,-0.01 -0.03,-0.01 -0.03,-0.01 -0.03,-0.01 -0.02,-0.01 -0.01,0 -0.02,0 -0.02,0 -0.02,-0.01 -0.02,0 -0.03,0 -0.02,-0.01 -0.02,0 -0.03,0 -0.02,0 -0.03,0 -0.02,0 -0.03,0 -0.03,-0.01 -0.03,0 -0.03,0 -0.03,0 -0.04,0 -0.03,0 -0.04,0 -0.03,0 c -0.17,0 -0.27,0 -0.27,-0.2 0,-0.11 0.09,-0.11 0.27,-0.11 l 3.55,0 c 1.58,0 2.75,1.18 2.75,2.15 0,0.72 -0.57,1.3 -1.54,1.41 1.04,0.19 2.08,0.93 2.08,1.87 0,0.74 -0.66,1.38 -1.85,1.38 l -0.14,-0.31 c 0.88,0 1.09,-0.59 1.09,-1.03 0,-0.87 -0.86,-1.82 -2.08,-1.82 l -1.45,0 -0.06,-0.22 1.88,0 c 0.96,0 1.15,-0.74 1.15,-1.17 0,-0.98 -0.89,-1.95 -2.07,-1.95 l -1.35,0 c -0.14,0 -0.16,0 -0.22,0.01 -0.1,0.01 -0.13,0.02 -0.13,0.1 0,0.03 0,0.05 0.05,0.23 l 0.69,2.78 0.06,0.22 0.62,2.47 c 0.09,0.35 0.11,0.38 0.53,0.38 l 1.29,0 0.14,0.31 -3.35,0 c -0.19,0 -0.29,0 -0.29,-0.2 0,-0.11 0.09,-0.11 0.28,-0.11 0.02,0 0.21,0 0.38,-0.02 0.18,-0.02 0.27,-0.03 0.27,-0.16 0,-0.04 -0.01,-0.07 -0.04,-0.19 z\" id=\"path5831\" inkscape:connector-curvature=\"0\" style=\"fill:#000000;stroke-width:0\"/><path d=\"m 158.45,710.26 0,0 0,0 0,0 0,0 0,0.01 0.01,0 0,0 0,0 0,0 0,0.01 0,0 0,0 0,0.01 0,0 0,0.01 0,0 0.01,0.01 0,0 0,0.01 0,0.01 0,0 0,0.01 0,0 0.01,0.01 0,0 0,0 0,0.01 0,0 0,0 0,0 0,0 0,0.01 0,0 0,0 0,0 0,0 0,0 0,0 0,0 0,0 c 0,0.04 -0.03,0.1 -0.11,0.1 -0.14,0 -0.72,-0.06 -0.89,-0.07 -0.06,-0.01 -0.16,-0.01 -0.16,-0.16 0,-0.1 0.1,-0.1 0.18,-0.1 0.34,0 0.34,-0.05 0.34,-0.1 0,-0.05 -0.02,-0.09 -0.03,-0.16 l -0.98,-3.94 c -0.04,-0.13 -0.04,-0.14 -0.04,-0.16 0,-0.1 0.09,-0.22 0.24,-0.22 0.08,0 0.21,0.03 0.29,0.18 0.02,0.04 0.08,0.29 0.11,0.44 l 0.17,0.62 c 0.02,0.11 0.09,0.37 0.11,0.48 0.07,0.26 0.07,0.27 0.21,0.49 0.22,0.34 0.57,0.74 1.11,0.74 0.39,0 0.41,-0.32 0.41,-0.49 0,-0.42 -0.3,-1.19 -0.41,-1.48 -0.07,-0.2 -0.1,-0.26 -0.1,-0.38 0,-0.37 0.3,-0.6 0.66,-0.6 0.7,0 1,0.96 1,1.07 0,0.09 -0.09,0.09 -0.11,0.09 -0.1,0 -0.1,-0.04 -0.13,-0.12 -0.16,-0.56 -0.47,-0.84 -0.74,-0.84 -0.15,0 -0.17,0.09 -0.17,0.24 0,0.16 0.03,0.25 0.16,0.57 0.08,0.21 0.37,0.95 0.37,1.34 0,0.11 0,0.41 -0.26,0.61 -0.12,0.09 -0.32,0.19 -0.65,0.19 -0.51,0 -0.88,-0.28 -1.14,-0.58 z\" id=\"path5833\" inkscape:connector-curvature=\"0\" style=\"fill:#000000;stroke-width:0\"/></g>    <g font-size-adjust=\"none\" font-stretch=\"normal\" font-style=\"normal\" font-variant=\"normal\" font-weight=\"normal\" id=\"g6054\" letter-spacing=\"normal\" ns0:preamble=\"/home/cosc/student/oga13/.config/inkscape/extensions/default_packages.tex\" ns0:text=\"$B_w$\" stroke-miterlimit=\"10.433\" style=\"font-style:normal;font-variant:normal;font-weight:normal;font-stretch:normal;letter-spacing:normal;word-spacing:normal;text-anchor:start;fill:#000000;fill-opacity:1;fill-rule:evenodd;stroke:#000000;stroke-linecap:butt;stroke-linejoin:miter;stroke-miterlimit:10.43299961;stroke-dasharray:none;stroke-dashoffset:0;stroke-opacity:1\" transform=\"matrix(1.4492782,0,0,-1.5571775,436.29407,1887.8001)\" word-spacing=\"normal\" xml:space=\"preserve\"><path d=\"m 150.3,707.9 -0.01,-0.04 0,-0.03 -0.01,-0.03 -0.01,-0.03 -0.01,-0.03 -0.01,-0.03 -0.01,-0.02 -0.01,-0.03 -0.01,-0.02 -0.01,-0.02 -0.02,-0.02 -0.01,-0.02 -0.02,-0.02 -0.01,-0.01 -0.02,-0.02 -0.02,-0.01 -0.02,-0.01 -0.03,-0.01 -0.03,-0.01 -0.03,-0.01 -0.03,-0.01 -0.02,-0.01 -0.01,0 -0.02,0 -0.02,0 -0.02,-0.01 -0.02,0 -0.03,0 -0.02,-0.01 -0.02,0 -0.03,0 -0.02,0 -0.03,0 -0.02,0 -0.03,0 -0.03,-0.01 -0.03,0 -0.03,0 -0.03,0 -0.04,0 -0.03,0 -0.04,0 -0.03,0 c -0.17,0 -0.27,0 -0.27,-0.2 0,-0.11 0.09,-0.11 0.27,-0.11 l 3.55,0 c 1.58,0 2.75,1.18 2.75,2.15 0,0.72 -0.57,1.3 -1.54,1.41 1.04,0.19 2.08,0.93 2.08,1.87 0,0.74 -0.66,1.38 -1.85,1.38 l -0.14,-0.31 c 0.88,0 1.09,-0.59 1.09,-1.03 0,-0.87 -0.86,-1.82 -2.08,-1.82 l -1.45,0 -0.06,-0.22 1.88,0 c 0.96,0 1.15,-0.74 1.15,-1.17 0,-0.98 -0.89,-1.95 -2.07,-1.95 l -1.35,0 c -0.14,0 -0.16,0 -0.22,0.01 -0.1,0.01 -0.13,0.02 -0.13,0.1 0,0.03 0,0.05 0.05,0.23 l 0.69,2.78 0.06,0.22 0.62,2.47 c 0.09,0.35 0.11,0.38 0.53,0.38 l 1.29,0 0.14,0.31 -3.35,0 c -0.19,0 -0.29,0 -0.29,-0.2 0,-0.11 0.09,-0.11 0.28,-0.11 0.02,0 0.21,0 0.38,-0.02 0.18,-0.02 0.27,-0.03 0.27,-0.16 0,-0.04 -0.01,-0.07 -0.04,-0.19 z\" id=\"path6056\" inkscape:connector-curvature=\"0\" style=\"fill:#000000;stroke-width:0\"/><path d=\"m 159.94,707.85 0,0.02 0.01,0.02 0,0.02 0.01,0.02 0,0.02 0.01,0.02 0.01,0.05 0.01,0.04 0.01,0.04 0.01,0.05 0.01,0.02 0,0.02 0.01,0.02 0,0.02 0.01,0.02 0,0.02 0.01,0.02 0,0.02 0,0.01 0.01,0.02 0,0.01 0,0.01 0.01,0.02 0,0.01 0,0.01 0,0 0,0.01 0,0 0,0 0,0 c 0,0.14 -0.11,0.23 -0.23,0.23 -0.13,0 -0.26,-0.09 -0.3,-0.21 -0.02,-0.05 -0.09,-0.34 -0.14,-0.52 -0.1,-0.4 -0.1,-0.41 -0.2,-0.8 -0.09,-0.39 -0.11,-0.44 -0.11,-0.64 0.03,-0.14 -0.03,-0.27 -0.2,-0.48 -0.09,-0.12 -0.23,-0.23 -0.46,-0.23 -0.28,0 -0.63,0.09 -0.63,0.64 0,0.35 0.19,0.87 0.33,1.22 0.12,0.31 0.15,0.37 0.15,0.49 0,0.34 -0.29,0.6 -0.66,0.6 -0.71,0 -1.02,-0.95 -1.02,-1.07 0,-0.09 0.1,-0.09 0.12,-0.09 0.09,0 0.1,0.03 0.12,0.11 0.18,0.58 0.48,0.85 0.76,0.85 0.11,0 0.17,-0.08 0.17,-0.24 0,-0.16 -0.06,-0.32 -0.1,-0.41 -0.4,-1.02 -0.4,-1.16 -0.4,-1.37 0,-0.83 0.75,-0.93 1.13,-0.93 0.13,0 0.47,0 0.78,0.47 0.17,-0.32 0.55,-0.47 0.97,-0.47 0.62,0 0.93,0.54 1.07,0.82 0.3,0.59 0.49,1.46 0.49,1.78 0,0.52 -0.3,0.55 -0.35,0.55 -0.18,0 -0.38,-0.19 -0.38,-0.37 0,-0.12 0.07,-0.17 0.12,-0.21 0.17,-0.14 0.26,-0.34 0.26,-0.56 0,-0.09 -0.29,-1.81 -1.18,-1.81 -0.56,0 -0.56,0.5 -0.56,0.62 0,0.19 0.03,0.3 0.12,0.69 z\" id=\"path6058\" inkscape:connector-curvature=\"0\" style=\"fill:#000000;stroke-width:0\"/></g>    <g font-size-adjust=\"none\" font-stretch=\"normal\" font-style=\"normal\" font-variant=\"normal\" font-weight=\"normal\" id=\"g6279\" letter-spacing=\"normal\" ns0:preamble=\"/home/cosc/student/oga13/.config/inkscape/extensions/default_packages.tex\" ns0:text=\"$W_x$\" stroke-miterlimit=\"10.433\" style=\"font-style:normal;font-variant:normal;font-weight:normal;font-stretch:normal;letter-spacing:normal;word-spacing:normal;text-anchor:start;fill:#000000;fill-opacity:1;fill-rule:evenodd;stroke:#000000;stroke-linecap:butt;stroke-linejoin:miter;stroke-miterlimit:10.43299961;stroke-dasharray:none;stroke-dashoffset:0;stroke-opacity:1\" transform=\"matrix(1.4912545,0,0,-1.446191,-4.5075859,1930.2568)\" word-spacing=\"normal\" xml:space=\"preserve\"><path d=\"m 157.85,712.77 0.04,0.08 0.05,0.08 0.05,0.08 0.05,0.07 0.02,0.04 0.03,0.03 0.03,0.04 0.02,0.03 0.03,0.03 0.03,0.03 0.03,0.03 0.03,0.03 0.03,0.03 0.04,0.02 0.03,0.03 0.04,0.02 0.04,0.03 0.04,0.02 0.04,0.02 0.04,0.02 0.04,0.01 0.05,0.02 0.04,0.01 0.05,0.02 0.06,0.01 0.05,0.01 0.05,0 0.06,0.01 c 0.09,0.01 0.19,0.01 0.19,0.2 0,0.04 -0.04,0.11 -0.12,0.11 -0.24,0 -0.52,-0.03 -0.77,-0.03 -0.33,0 -0.7,0.03 -1.03,0.03 -0.06,0 -0.19,0 -0.19,-0.19 0,-0.11 0.09,-0.12 0.15,-0.12 0.24,-0.01 0.59,-0.09 0.59,-0.39 0,-0.11 -0.05,-0.19 -0.13,-0.33 l -2.69,-4.69 -0.37,4.94 c -0.01,0.2 -0.03,0.46 0.7,0.47 0.17,0 0.26,0 0.26,0.2 0,0.1 -0.1,0.11 -0.15,0.11 -0.39,0 -0.81,-0.03 -1.21,-0.03 -0.23,0 -0.82,0.03 -1.05,0.03 -0.06,0 -0.19,0 -0.19,-0.2 0,-0.11 0.1,-0.11 0.24,-0.11 0.44,0 0.51,-0.06 0.53,-0.25 l 0.06,-0.77 -2.52,-4.39 -0.38,5.05 c 0,0.12 0,0.35 0.76,0.36 0.1,0 0.21,0 0.21,0.2 0,0.11 -0.12,0.11 -0.14,0.11 -0.4,0 -0.82,-0.03 -1.23,-0.03 -0.35,0 -0.7,0.03 -1.04,0.03 -0.05,0 -0.18,0 -0.18,-0.19 0,-0.12 0.09,-0.12 0.25,-0.12 0.5,0 0.5,-0.09 0.53,-0.37 l 0.44,-6.09 c 0.01,-0.18 0.02,-0.26 0.16,-0.26 0.12,0 0.15,0.06 0.24,0.21 l 2.93,5.08 0.37,-5.03 c 0.02,-0.21 0.04,-0.26 0.16,-0.26 0.13,0 0.19,0.1 0.24,0.19 z\" id=\"path6281\" inkscape:connector-curvature=\"0\" style=\"fill:#000000;stroke-width:0\"/><path d=\"m 159.86,706.37 -0.01,-0.02 -0.01,-0.03 0,-0.02 -0.01,-0.03 -0.02,-0.02 -0.01,-0.03 -0.01,-0.02 -0.01,-0.03 -0.02,-0.02 -0.01,-0.03 -0.02,-0.02 -0.02,-0.03 -0.01,-0.02 -0.02,-0.03 -0.02,-0.02 -0.02,-0.03 -0.02,-0.02 -0.02,-0.02 -0.03,-0.02 -0.02,-0.02 -0.03,-0.02 -0.02,-0.02 -0.03,-0.02 -0.02,-0.01 -0.03,-0.02 -0.03,-0.01 -0.03,-0.01 -0.03,-0.01 -0.03,0 -0.03,-0.01 -0.03,0 -0.04,0 c -0.02,0 -0.23,0 -0.37,0.09 0.28,0.09 0.3,0.35 0.3,0.39 0,0.15 -0.12,0.25 -0.28,0.25 -0.19,0 -0.39,-0.16 -0.39,-0.42 0,-0.35 0.39,-0.51 0.73,-0.51 0.32,0 0.61,0.2 0.78,0.49 0.17,-0.36 0.55,-0.49 0.83,-0.49 0.8,0 1.23,0.87 1.23,1.07 0,0.09 -0.09,0.09 -0.11,0.09 -0.1,0 -0.11,-0.04 -0.14,-0.12 -0.14,-0.48 -0.56,-0.84 -0.95,-0.84 -0.28,0 -0.43,0.18 -0.43,0.45 0,0.18 0.17,0.82 0.37,1.59 0.13,0.54 0.45,0.71 0.68,0.71 0.01,0 0.23,0 0.38,-0.1 -0.23,-0.06 -0.31,-0.25 -0.31,-0.38 0,-0.15 0.12,-0.26 0.28,-0.26 0.16,0 0.39,0.13 0.39,0.43 0,0.39 -0.45,0.51 -0.73,0.51 -0.35,0 -0.62,-0.24 -0.78,-0.5 -0.12,0.29 -0.44,0.5 -0.83,0.5 -0.79,0 -1.23,-0.86 -1.23,-1.07 0,-0.09 0.09,-0.09 0.12,-0.09 0.09,0 0.09,0.03 0.13,0.12 0.17,0.54 0.61,0.84 0.95,0.84 0.23,0 0.42,-0.12 0.42,-0.46 0,-0.14 -0.08,-0.49 -0.14,-0.72 z\" id=\"path6283\" inkscape:connector-curvature=\"0\" style=\"fill:#000000;stroke-width:0\"/></g>    <g font-size-adjust=\"none\" font-stretch=\"normal\" font-style=\"normal\" font-variant=\"normal\" font-weight=\"normal\" id=\"g6504\" letter-spacing=\"normal\" ns0:preamble=\"/home/cosc/student/oga13/.config/inkscape/extensions/default_packages.tex\" ns0:text=\"\\\\^{x}\" stroke-miterlimit=\"10.433\" style=\"font-style:normal;font-variant:normal;font-weight:normal;font-stretch:normal;letter-spacing:normal;word-spacing:normal;text-anchor:start;fill:#000000;fill-opacity:1;fill-rule:evenodd;stroke:#000000;stroke-linecap:butt;stroke-linejoin:miter;stroke-miterlimit:10.43299961;stroke-dasharray:none;stroke-dashoffset:0;stroke-opacity:1\" transform=\"matrix(1.1494912,0,0,-1.6575797,399.79046,2005.2843)\" word-spacing=\"normal\" xml:space=\"preserve\"><polygon id=\"polygon6506\" points=\"151.34,714.04 150.01,712.68 150.19,712.5 151.34,713.52 152.49,712.5 152.67,712.68 \" style=\"fill:#000000;stroke-width:0\"/><path d=\"m 151.57,709.46 0.06,0.08 0.05,0.07 0.06,0.08 0.06,0.07 0.13,0.16 0.06,0.08 0.06,0.07 0.06,0.08 0.06,0.07 0.06,0.07 0.05,0.07 0.03,0.03 0.03,0.03 0.02,0.03 0.03,0.03 0.03,0.03 0.02,0.03 0.02,0.02 0.03,0.03 c 0.3,0.36 0.71,0.51 1.18,0.52 l 0,0.31 c -0.26,-0.02 -0.56,-0.03 -0.82,-0.03 -0.29,0 -0.82,0.02 -0.95,0.03 l 0,-0.31 c 0.21,-0.02 0.29,-0.15 0.29,-0.31 0,-0.16 -0.1,-0.29 -0.15,-0.35 l -0.62,-0.78 -0.78,1.01 c -0.09,0.1 -0.09,0.12 -0.09,0.18 0,0.15 0.15,0.24 0.35,0.25 l 0,0.31 c -0.26,-0.01 -0.91,-0.03 -1.07,-0.03 -0.21,0 -0.68,0.01 -0.95,0.03 l 0,-0.31 c 0.7,0 0.71,-0.01 1.17,-0.61 l 0.99,-1.28 -0.94,-1.19 c -0.47,-0.58 -1.06,-0.6 -1.27,-0.6 l 0,-0.31 c 0.26,0.02 0.57,0.03 0.83,0.03 0.29,0 0.7,-0.02 0.94,-0.03 l 0,0.31 c -0.22,0.03 -0.29,0.16 -0.29,0.31 0,0.22 0.29,0.55 0.9,1.27 l 0.76,-1 c 0.08,-0.11 0.21,-0.27 0.21,-0.33 0,-0.09 -0.09,-0.24 -0.36,-0.25 l 0,-0.31 c 0.3,0.01 0.86,0.03 1.07,0.03 0.27,0 0.66,-0.01 0.96,-0.03 l 0,0.31 c -0.54,0 -0.72,0.02 -0.95,0.31 z\" id=\"path6508\" inkscape:connector-curvature=\"0\" style=\"fill:#000000;stroke-width:0\"/></g>    <path d=\"m 588.02923,816.41135 -20.04506,0\" id=\"path6620\" inkscape:connector-curvature=\"0\" style=\"fill:none;fill-rule:evenodd;stroke:#000000;stroke-width:1.2515614;stroke-linecap:butt;stroke-linejoin:miter;stroke-miterlimit:4;stroke-dasharray:none;stroke-opacity:1;marker-end:url(#marker6628)\"/>\n",
       "    <path d=\"m 588.95819,815.4824 -0.92896,-23.22393\" id=\"path6694\" inkscape:connector-curvature=\"0\" style=\"fill:none;fill-rule:evenodd;stroke:#000000;stroke-width:1.39999998;stroke-linecap:butt;stroke-linejoin:miter;stroke-miterlimit:4;stroke-dasharray:none;stroke-opacity:1;marker-end:url(#marker6702)\"/>\n",
       "    <g font-size-adjust=\"none\" font-stretch=\"normal\" font-style=\"normal\" font-variant=\"normal\" font-weight=\"normal\" id=\"g7767\" letter-spacing=\"normal\" ns0:preamble=\"/home/cosc/student/oga13/.config/inkscape/extensions/default_packages.tex\" ns0:text=\"\\\\^{z}\" stroke-miterlimit=\"10.433\" style=\"font-style:normal;font-variant:normal;font-weight:normal;font-stretch:normal;letter-spacing:normal;word-spacing:normal;text-anchor:start;fill:#000000;fill-opacity:1;fill-rule:evenodd;stroke:#000000;stroke-linecap:butt;stroke-linejoin:miter;stroke-miterlimit:10.43299961;stroke-dasharray:none;stroke-dashoffset:0;stroke-opacity:1\" transform=\"matrix(1.7480404,0,0,-1.5233368,333.12303,1886.6587)\" word-spacing=\"normal\" xml:space=\"preserve\"><polygon font-size-adjust=\"none\" font-stretch=\"normal\" font-style=\"normal\" font-variant=\"normal\" font-weight=\"normal\" id=\"polygon7769\" letter-spacing=\"normal\" points=\"152.25,712.68 150.92,714.04 149.59,712.68 149.77,712.5 150.92,713.52 152.07,712.5 \" stroke-miterlimit=\"10.433\" style=\"font-style:normal;font-variant:normal;font-weight:normal;font-stretch:normal;letter-spacing:normal;word-spacing:normal;text-anchor:start;fill:#000000;fill-opacity:1;fill-rule:evenodd;stroke:#000000;stroke-width:0;stroke-linecap:butt;stroke-linejoin:miter;stroke-miterlimit:10.43299961;stroke-dasharray:none;stroke-dashoffset:0;stroke-opacity:1\" word-spacing=\"normal\"/><path d=\"m 152.6,711.12 0.01,0 0,0.01 0.01,0 0,0.01 0,0 0.01,0.01 0,0 0,0 0.01,0.01 0,0 0,0.01 0,0 0.01,0 0,0.01 0.01,0 0,0.01 0,0.01 0.01,0 0,0.01 0,0 0.01,0.01 0,0 0,0.01 0,0 0.01,0.01 0,0 0,0 0,0.01 0,0 0,0.01 0,0 0,0.01 0,0 0,0.01 0,0.01 c 0,0.13 -0.08,0.13 -0.26,0.13 l -3.18,0 -0.11,-1.61 0.24,0 c 0.07,1.02 0.25,1.39 1.35,1.39 l 1.14,0 -2.78,-3.76 C 149,707.33 149,707.31 149,707.26 c 0,-0.14 0.07,-0.14 0.26,-0.14 l 3.28,0 0.17,1.87 -0.25,0 c -0.09,-1.18 -0.3,-1.62 -1.45,-1.62 l -1.18,0 z\" font-size-adjust=\"none\" font-stretch=\"normal\" font-style=\"normal\" font-variant=\"normal\" font-weight=\"normal\" id=\"path7771\" inkscape:connector-curvature=\"0\" letter-spacing=\"normal\" stroke-miterlimit=\"10.433\" style=\"font-style:normal;font-variant:normal;font-weight:normal;font-stretch:normal;letter-spacing:normal;word-spacing:normal;text-anchor:start;fill:#000000;fill-opacity:1;fill-rule:evenodd;stroke:#000000;stroke-width:0;stroke-linecap:butt;stroke-linejoin:miter;stroke-miterlimit:10.43299961;stroke-dasharray:none;stroke-dashoffset:0;stroke-opacity:1\" word-spacing=\"normal\"/></g>    <g font-size-adjust=\"none\" font-stretch=\"normal\" font-style=\"normal\" font-variant=\"normal\" font-weight=\"normal\" id=\"g8034\" letter-spacing=\"normal\" ns0:preamble=\"/home/cosc/student/oga13/.config/inkscape/extensions/default_packages.tex\" ns0:text=\"\\\\^{y}\" stroke-miterlimit=\"10.433\" style=\"font-style:normal;font-variant:normal;font-weight:normal;font-stretch:normal;letter-spacing:normal;word-spacing:normal;text-anchor:start;fill:#000000;fill-opacity:1;fill-rule:evenodd;stroke:#000000;stroke-linecap:butt;stroke-linejoin:miter;stroke-miterlimit:10.43299961;stroke-dasharray:none;stroke-dashoffset:0;stroke-opacity:1\" transform=\"matrix(2.0462477,0,0,-1.8595409,-181.90635,2149.5467)\" word-spacing=\"normal\" xml:space=\"preserve\"><polygon font-size-adjust=\"none\" font-stretch=\"normal\" font-style=\"normal\" font-variant=\"normal\" font-weight=\"normal\" id=\"polygon8036\" letter-spacing=\"normal\" points=\"150.19,712.5 151.34,713.52 152.49,712.5 152.67,712.68 151.34,714.04 150.01,712.68 \" stroke-miterlimit=\"10.433\" style=\"font-style:normal;font-variant:normal;font-weight:normal;font-stretch:normal;letter-spacing:normal;word-spacing:normal;text-anchor:start;fill:#000000;fill-opacity:1;fill-rule:evenodd;stroke:#000000;stroke-width:0;stroke-linecap:butt;stroke-linejoin:miter;stroke-miterlimit:10.43299961;stroke-dasharray:none;stroke-dashoffset:0;stroke-opacity:1\" word-spacing=\"normal\"/><path d=\"m 152.84,710.47 0.02,0.03 0.01,0.03 0.01,0.02 0.02,0.03 0.01,0.03 0.01,0.02 0.02,0.02 0.01,0.03 0.03,0.04 0.03,0.04 0.03,0.04 0.04,0.03 0.03,0.04 0.03,0.03 0.04,0.02 0.03,0.03 0.03,0.02 0.04,0.02 0.03,0.02 0.04,0.01 0.03,0.02 0.03,0.01 0.03,0.01 0.04,0.01 0.03,0.01 0.03,0.01 0.03,0 0.03,0.01 0.02,0 0.03,0 0.02,0 0.03,0.01 0.02,0 0.02,0 0.02,0 0.01,0 0,0.31 c -0.23,-0.02 -0.52,-0.03 -0.75,-0.03 -0.18,0 -0.64,0.02 -0.86,0.03 l 0,-0.31 c 0.31,-0.01 0.46,-0.18 0.46,-0.43 0,-0.1 0,-0.12 -0.05,-0.24 l -1.01,-2.45 -1.11,2.68 c -0.04,0.1 -0.06,0.14 -0.06,0.18 0,0.26 0.37,0.26 0.56,0.26 l 0,0.31 c -0.26,-0.01 -0.91,-0.03 -1.08,-0.03 -0.27,0 -0.67,0.01 -0.97,0.03 l 0,-0.31 c 0.48,0 0.67,0 0.81,-0.35 l 1.49,-3.64 c -0.05,-0.13 -0.19,-0.46 -0.25,-0.59 -0.22,-0.54 -0.5,-1.23 -1.13,-1.23 -0.05,0 -0.28,0 -0.47,0.18 0.31,0.04 0.39,0.26 0.39,0.42 0,0.26 -0.19,0.42 -0.42,0.42 -0.2,0 -0.42,-0.13 -0.42,-0.43 0,-0.45 0.42,-0.81 0.92,-0.81 0.62,0 1.03,0.57 1.27,1.14 z\" font-size-adjust=\"none\" font-stretch=\"normal\" font-style=\"normal\" font-variant=\"normal\" font-weight=\"normal\" id=\"path8038\" inkscape:connector-curvature=\"0\" letter-spacing=\"normal\" stroke-miterlimit=\"10.433\" style=\"font-style:normal;font-variant:normal;font-weight:normal;font-stretch:normal;letter-spacing:normal;word-spacing:normal;text-anchor:start;fill:#000000;fill-opacity:1;fill-rule:evenodd;stroke:#000000;stroke-width:0;stroke-linecap:butt;stroke-linejoin:miter;stroke-miterlimit:10.43299961;stroke-dasharray:none;stroke-dashoffset:0;stroke-opacity:1\" word-spacing=\"normal\"/></g>    <path d=\"m 114.63337,817.99134 25.41473,0.41569\" id=\"path6620-7\" inkscape:connector-curvature=\"0\" style=\"fill:none;fill-rule:evenodd;stroke:#000000;stroke-width:1.52568388;stroke-linecap:butt;stroke-linejoin:miter;stroke-miterlimit:4;stroke-dasharray:none;stroke-opacity:1;marker-end:url(#marker6628-5)\"/>\n",
       "    <path d=\"m 115.63676,817.27262 -0.75195,-23.23034\" id=\"path6694-4\" inkscape:connector-curvature=\"0\" style=\"fill:none;fill-rule:evenodd;stroke:#000000;stroke-width:1.39999998;stroke-linecap:butt;stroke-linejoin:miter;stroke-miterlimit:4;stroke-dasharray:none;stroke-opacity:1;marker-end:url(#marker6702-46)\"/>\n",
       "    <g font-size-adjust=\"none\" font-stretch=\"normal\" font-style=\"normal\" font-variant=\"normal\" font-weight=\"normal\" id=\"g7767-4\" letter-spacing=\"normal\" ns0:preamble=\"/home/cosc/student/oga13/.config/inkscape/extensions/default_packages.tex\" ns0:text=\"\\\\^{z}\" stroke-miterlimit=\"10.433\" style=\"font-style:normal;font-variant:normal;font-weight:normal;font-stretch:normal;letter-spacing:normal;word-spacing:normal;text-anchor:start;fill:#000000;fill-opacity:1;fill-rule:evenodd;stroke:#000000;stroke-linecap:butt;stroke-linejoin:miter;stroke-miterlimit:10.43299961;stroke-dasharray:none;stroke-dashoffset:0;stroke-opacity:1\" transform=\"matrix(1.7480404,0,0,-1.5233368,-157.80003,1890.5034)\" word-spacing=\"normal\" xml:space=\"preserve\"><polygon font-size-adjust=\"none\" font-stretch=\"normal\" font-style=\"normal\" font-variant=\"normal\" font-weight=\"normal\" id=\"polygon7769-1\" letter-spacing=\"normal\" points=\"152.07,712.5 152.25,712.68 150.92,714.04 149.59,712.68 149.77,712.5 150.92,713.52 \" stroke-miterlimit=\"10.433\" style=\"font-style:normal;font-variant:normal;font-weight:normal;font-stretch:normal;letter-spacing:normal;word-spacing:normal;text-anchor:start;fill:#000000;fill-opacity:1;fill-rule:evenodd;stroke:#000000;stroke-width:0;stroke-linecap:butt;stroke-linejoin:miter;stroke-miterlimit:10.43299961;stroke-dasharray:none;stroke-dashoffset:0;stroke-opacity:1\" word-spacing=\"normal\"/><path d=\"m 152.6,711.12 0.01,0 0,0.01 0.01,0 0,0.01 0,0 0.01,0.01 0,0 0,0 0.01,0.01 0,0 0,0.01 0,0 0.01,0 0,0.01 0.01,0 0,0.01 0,0.01 0.01,0 0,0.01 0,0 0.01,0.01 0,0 0,0.01 0,0 0.01,0.01 0,0 0,0 0,0.01 0,0 0,0.01 0,0 0,0.01 0,0 0,0.01 0,0.01 c 0,0.13 -0.08,0.13 -0.26,0.13 l -3.18,0 -0.11,-1.61 0.24,0 c 0.07,1.02 0.25,1.39 1.35,1.39 l 1.14,0 -2.78,-3.76 C 149,707.33 149,707.31 149,707.26 c 0,-0.14 0.07,-0.14 0.26,-0.14 l 3.28,0 0.17,1.87 -0.25,0 c -0.09,-1.18 -0.3,-1.62 -1.45,-1.62 l -1.18,0 z\" font-size-adjust=\"none\" font-stretch=\"normal\" font-style=\"normal\" font-variant=\"normal\" font-weight=\"normal\" id=\"path7771-2\" inkscape:connector-curvature=\"0\" letter-spacing=\"normal\" stroke-miterlimit=\"10.433\" style=\"font-style:normal;font-variant:normal;font-weight:normal;font-stretch:normal;letter-spacing:normal;word-spacing:normal;text-anchor:start;fill:#000000;fill-opacity:1;fill-rule:evenodd;stroke:#000000;stroke-width:0;stroke-linecap:butt;stroke-linejoin:miter;stroke-miterlimit:10.43299961;stroke-dasharray:none;stroke-dashoffset:0;stroke-opacity:1\" word-spacing=\"normal\"/></g>    <path d=\"m 544.22875,808.03402 c -1.45825,5.4133 -7.41807,8.32821 -12.67011,6.71092 -5.7925,-1.78371 -8.90456,-8.22514 -7.05534,-13.92471 1.97915,-6.10002 8.80344,-9.36868 14.83772,-7.35551 2.34073,0.78091 4.40979,2.29109 5.87699,4.27398\" id=\"path4375\" sodipodi:argument=\"-8.2133808\" sodipodi:cx=\"535.21802\" sodipodi:cy=\"804.73871\" sodipodi:expansion=\"0.2\" sodipodi:radius=\"12.206555\" sodipodi:revolution=\"1.21\" sodipodi:t0=\"0.30000001\" sodipodi:type=\"spiral\" style=\"fill:none;fill-rule:evenodd;stroke:#000000;stroke-width:1px;stroke-linecap:butt;stroke-linejoin:miter;stroke-opacity:1;marker-end:url(#Arrow2Mend)\"/>\n",
       "    <path d=\"m 80.611285,812.9742 c -1.458248,5.41331 -7.41807,8.32822 -12.670106,6.71093 -5.792502,-1.78372 -8.904563,-8.22514 -7.055343,-13.92471 1.979147,-6.10003 8.803437,-9.36868 14.837726,-7.35552 2.340727,0.78092 4.409784,2.2911 5.876991,4.27399\" id=\"path4375-5\" sodipodi:argument=\"-8.2133808\" sodipodi:cx=\"71.600555\" sodipodi:cy=\"809.67889\" sodipodi:expansion=\"0.2\" sodipodi:radius=\"12.206555\" sodipodi:revolution=\"1.21\" sodipodi:t0=\"0.30000001\" sodipodi:type=\"spiral\" style=\"fill:none;fill-rule:evenodd;stroke:#000000;stroke-width:1px;stroke-linecap:butt;stroke-linejoin:miter;stroke-opacity:1;marker-end:url(#Arrow2Mend-0)\"/>\n",
       "    <g font-size-adjust=\"none\" font-stretch=\"normal\" font-style=\"normal\" font-variant=\"normal\" font-weight=\"normal\" id=\"g6504-8\" letter-spacing=\"normal\" ns0:preamble=\"/home/cosc/student/oga13/.config/inkscape/extensions/default_packages.tex\" ns0:text=\"\\\\^{x}\" stroke-miterlimit=\"10.433\" style=\"font-style:normal;font-variant:normal;font-weight:normal;font-stretch:normal;letter-spacing:normal;word-spacing:normal;text-anchor:start;fill:#000000;fill-opacity:1;fill-rule:evenodd;stroke:#000000;stroke-linecap:butt;stroke-linejoin:miter;stroke-miterlimit:10.43299961;stroke-dasharray:none;stroke-dashoffset:0;stroke-opacity:1\" transform=\"matrix(1.1494912,0,0,-1.6575797,-101.74595,1985.5817)\" word-spacing=\"normal\" xml:space=\"preserve\"><polygon id=\"polygon6506-7\" points=\"152.67,712.68 151.34,714.04 150.01,712.68 150.19,712.5 151.34,713.52 152.49,712.5 \" style=\"fill:#000000;stroke-width:0\"/><path d=\"m 151.57,709.46 0.06,0.08 0.05,0.07 0.06,0.08 0.06,0.07 0.13,0.16 0.06,0.08 0.06,0.07 0.06,0.08 0.06,0.07 0.06,0.07 0.05,0.07 0.03,0.03 0.03,0.03 0.02,0.03 0.03,0.03 0.03,0.03 0.02,0.03 0.02,0.02 0.03,0.03 c 0.3,0.36 0.71,0.51 1.18,0.52 l 0,0.31 c -0.26,-0.02 -0.56,-0.03 -0.82,-0.03 -0.29,0 -0.82,0.02 -0.95,0.03 l 0,-0.31 c 0.21,-0.02 0.29,-0.15 0.29,-0.31 0,-0.16 -0.1,-0.29 -0.15,-0.35 l -0.62,-0.78 -0.78,1.01 c -0.09,0.1 -0.09,0.12 -0.09,0.18 0,0.15 0.15,0.24 0.35,0.25 l 0,0.31 c -0.26,-0.01 -0.91,-0.03 -1.07,-0.03 -0.21,0 -0.68,0.01 -0.95,0.03 l 0,-0.31 c 0.7,0 0.71,-0.01 1.17,-0.61 l 0.99,-1.28 -0.94,-1.19 c -0.47,-0.58 -1.06,-0.6 -1.27,-0.6 l 0,-0.31 c 0.26,0.02 0.57,0.03 0.83,0.03 0.29,0 0.7,-0.02 0.94,-0.03 l 0,0.31 c -0.22,0.03 -0.29,0.16 -0.29,0.31 0,0.22 0.29,0.55 0.9,1.27 l 0.76,-1 c 0.08,-0.11 0.21,-0.27 0.21,-0.33 0,-0.09 -0.09,-0.24 -0.36,-0.25 l 0,-0.31 c 0.3,0.01 0.86,0.03 1.07,0.03 0.27,0 0.66,-0.01 0.96,-0.03 l 0,0.31 c -0.54,0 -0.72,0.02 -0.95,0.31 z\" id=\"path6508-0\" inkscape:connector-curvature=\"0\" style=\"fill:#000000;stroke-width:0\"/></g>    <g font-size-adjust=\"none\" font-stretch=\"normal\" font-style=\"normal\" font-variant=\"normal\" font-weight=\"normal\" id=\"g8034-4\" letter-spacing=\"normal\" ns0:preamble=\"/home/cosc/student/oga13/.config/inkscape/extensions/default_packages.tex\" ns0:text=\"\\\\^{y}\" stroke-miterlimit=\"10.433\" style=\"font-style:normal;font-variant:normal;font-weight:normal;font-stretch:normal;letter-spacing:normal;word-spacing:normal;text-anchor:start;fill:#000000;fill-opacity:1;fill-rule:evenodd;stroke:#000000;stroke-linecap:butt;stroke-linejoin:miter;stroke-miterlimit:10.43299961;stroke-dasharray:none;stroke-dashoffset:0;stroke-opacity:1\" transform=\"matrix(2.0462477,0,0,-1.8595409,226.54915,2122.1946)\" word-spacing=\"normal\" xml:space=\"preserve\"><polygon font-size-adjust=\"none\" font-stretch=\"normal\" font-style=\"normal\" font-variant=\"normal\" font-weight=\"normal\" id=\"polygon8036-8\" letter-spacing=\"normal\" points=\"151.34,713.52 152.49,712.5 152.67,712.68 151.34,714.04 150.01,712.68 150.19,712.5 \" stroke-miterlimit=\"10.433\" style=\"font-style:normal;font-variant:normal;font-weight:normal;font-stretch:normal;letter-spacing:normal;word-spacing:normal;text-anchor:start;fill:#000000;fill-opacity:1;fill-rule:evenodd;stroke:#000000;stroke-width:0;stroke-linecap:butt;stroke-linejoin:miter;stroke-miterlimit:10.43299961;stroke-dasharray:none;stroke-dashoffset:0;stroke-opacity:1\" word-spacing=\"normal\"/><path d=\"m 152.84,710.47 0.02,0.03 0.01,0.03 0.01,0.02 0.02,0.03 0.01,0.03 0.01,0.02 0.02,0.02 0.01,0.03 0.03,0.04 0.03,0.04 0.03,0.04 0.04,0.03 0.03,0.04 0.03,0.03 0.04,0.02 0.03,0.03 0.03,0.02 0.04,0.02 0.03,0.02 0.04,0.01 0.03,0.02 0.03,0.01 0.03,0.01 0.04,0.01 0.03,0.01 0.03,0.01 0.03,0 0.03,0.01 0.02,0 0.03,0 0.02,0 0.03,0.01 0.02,0 0.02,0 0.02,0 0.01,0 0,0.31 c -0.23,-0.02 -0.52,-0.03 -0.75,-0.03 -0.18,0 -0.64,0.02 -0.86,0.03 l 0,-0.31 c 0.31,-0.01 0.46,-0.18 0.46,-0.43 0,-0.1 0,-0.12 -0.05,-0.24 l -1.01,-2.45 -1.11,2.68 c -0.04,0.1 -0.06,0.14 -0.06,0.18 0,0.26 0.37,0.26 0.56,0.26 l 0,0.31 c -0.26,-0.01 -0.91,-0.03 -1.08,-0.03 -0.27,0 -0.67,0.01 -0.97,0.03 l 0,-0.31 c 0.48,0 0.67,0 0.81,-0.35 l 1.49,-3.64 c -0.05,-0.13 -0.19,-0.46 -0.25,-0.59 -0.22,-0.54 -0.5,-1.23 -1.13,-1.23 -0.05,0 -0.28,0 -0.47,0.18 0.31,0.04 0.39,0.26 0.39,0.42 0,0.26 -0.19,0.42 -0.42,0.42 -0.2,0 -0.42,-0.13 -0.42,-0.43 0,-0.45 0.42,-0.81 0.92,-0.81 0.62,0 1.03,0.57 1.27,1.14 z\" font-size-adjust=\"none\" font-stretch=\"normal\" font-style=\"normal\" font-variant=\"normal\" font-weight=\"normal\" id=\"path8038-0\" inkscape:connector-curvature=\"0\" letter-spacing=\"normal\" stroke-miterlimit=\"10.433\" style=\"font-style:normal;font-variant:normal;font-weight:normal;font-stretch:normal;letter-spacing:normal;word-spacing:normal;text-anchor:start;fill:#000000;fill-opacity:1;fill-rule:evenodd;stroke:#000000;stroke-width:0;stroke-linecap:butt;stroke-linejoin:miter;stroke-miterlimit:10.43299961;stroke-dasharray:none;stroke-dashoffset:0;stroke-opacity:1\" word-spacing=\"normal\"/></g>  </g>\n",
       "</svg>"
      ],
      "text/plain": [
       "<IPython.core.display.SVG object>"
      ]
     },
     "execution_count": 3,
     "metadata": {},
     "output_type": "execute_result"
    }
   ],
   "source": [
    "SVG(filename='openrov2.svg')"
   ]
  },
  {
   "cell_type": "markdown",
   "metadata": {},
   "source": [
    "# Define Variables\n",
    "\n",
    "constants:\n",
    "\n",
    "- $m_A$: Mass of the Rov.\n",
    "- $T_1$: Distance from COM to back thruster axis.\n",
    "- $T_2$: Distance from COM to upper thruster axis.\n",
    "- $W_x$: distance from center axis to back thruster axis.\n",
    "- $W_h$: distance from center axis to upper thruster.\n",
    "- $B_h$: the z messure of COB (center of bouyency) distance from COG (center of gravity) \n",
    "- $B_h$: the x messure of COB distance from COG."
   ]
  },
  {
   "cell_type": "code",
   "execution_count": 4,
   "metadata": {},
   "outputs": [],
   "source": [
    "# Inertial Reference Frame\n",
    "N = me.ReferenceFrame('N')\n",
    "\n",
    "# Define a world coordinate origin\n",
    "O = me.Point('O')\n",
    "O.set_vel(N, 0)"
   ]
  },
  {
   "cell_type": "code",
   "execution_count": 5,
   "metadata": {},
   "outputs": [
    {
     "name": "stdout",
     "output_type": "stream",
     "text": [
      "\\left[\\begin{matrix}- u_{0} + \\dot{q}_{0}\\\\- u_{1} + \\dot{q}_{1}\\\\- u_{2} + \\dot{q}_{2}\\\\- u_{3} + \\dot{q}_{3}\\\\- u_{4} + \\dot{q}_{4}\\\\- u_{5} + \\dot{q}_{5}\\end{matrix}\\right]\n"
     ]
    },
    {
     "data": {
      "text/latex": [
       "$$\\left[\\begin{matrix}- u_{0} + \\dot{q}_{0}\\\\- u_{1} + \\dot{q}_{1}\\\\- u_{2} + \\dot{q}_{2}\\\\- u_{3} + \\dot{q}_{3}\\\\- u_{4} + \\dot{q}_{4}\\\\- u_{5} + \\dot{q}_{5}\\end{matrix}\\right]$$"
      ],
      "text/plain": [
       "⎡-u₀ + q₀̇⎤\n",
       "⎢         ⎥\n",
       "⎢-u₁ + q₁̇⎥\n",
       "⎢         ⎥\n",
       "⎢-u₂ + q₂̇⎥\n",
       "⎢         ⎥\n",
       "⎢-u₃ + q₃̇⎥\n",
       "⎢         ⎥\n",
       "⎢-u₄ + q₄̇⎥\n",
       "⎢         ⎥\n",
       "⎣-u₅ + q₅̇⎦"
      ]
     },
     "execution_count": 5,
     "metadata": {},
     "output_type": "execute_result"
    }
   ],
   "source": [
    "#generelized coordinates\n",
    "#q0..3 = xyz positions  q4..6 = yaw,pitch,roll rotations\n",
    "q = list(me.dynamicsymbols('q0:6'))\n",
    "#generlized speeds\n",
    "u = list(me.dynamicsymbols('u0:6'))\n",
    "\n",
    "kin_diff=Matrix(q).diff()-Matrix(u)\n",
    "#print(me.vlatex(kin_diff))\n",
    "mprint(kin_diff)"
   ]
  },
  {
   "cell_type": "code",
   "execution_count": 6,
   "metadata": {},
   "outputs": [],
   "source": [
    "# Constants for the Robot Body\n",
    "Wx = symbols('W_x')                                     # 2*w is the width between thrusters\n",
    "Wh = symbols('W_h')                                    \n",
    "T1 = symbols('T_1')                                     # Distance between thruster base and center of mass\n",
    "T2 = symbols('T_2')                                     \n",
    "Bh = symbols('B_h')                                     \n",
    "Bw = symbols('B_w')                                     \n",
    "\n",
    "m_b = symbols('m_b')                                 # Mass of the body\n",
    "v_b = symbols('v_b') # Volume of the body\n",
    "mu = symbols('\\mu') #drag\n",
    "mu_r = symbols('\\mu_r') #rotational drag\n",
    "g = symbols('g')\n",
    "I = list(symbols('Ixx, Iyy, Izz'))             # Moments of inertia of body\n"
   ]
  },
  {
   "cell_type": "code",
   "execution_count": 27,
   "metadata": {},
   "outputs": [
    {
     "name": "stdout",
     "output_type": "stream",
     "text": [
      "u_{0}\\mathbf{\\hat{n}_x} + u_{1}\\mathbf{\\hat{n}_y} + u_{2}\\mathbf{\\hat{n}_z}\n"
     ]
    },
    {
     "data": {
      "image/png": "[encoded data removed]",
      "text/latex": [
       "$$u_{0}\\mathbf{\\hat{n}_x} + u_{1}\\mathbf{\\hat{n}_y} + u_{2}\\mathbf{\\hat{n}_z}$$"
      ],
      "text/plain": [
       "u₀ n_x + u₁ n_y + u₂ n_z"
      ]
     },
     "execution_count": 27,
     "metadata": {},
     "output_type": "execute_result"
    }
   ],
   "source": [
    "# Robot Reference Frame\n",
    "Rz=N.orientnew('R_z', 'Axis', (q[3+2], N.z))\n",
    "Rz.set_ang_vel(N,u[3+2]*N.z)\n",
    "\n",
    "Ry=Rz.orientnew('R_y', 'Axis', (q[3+1], Rz.y))\n",
    "Ry.set_ang_vel(Rz,u[3+1]*Rz.y)\n",
    "\n",
    "R=Ry.orientnew('R', 'Axis', (q[3+0], Ry.x))\n",
    "R.set_ang_vel(Ry,u[3+0]*Ry.x)\n",
    "\n",
    "\n",
    "# Center of mass of body\n",
    "COM = O.locatenew('COM', q[0]*N.x + q[1]*N.y + q[2]*N.z)\n",
    "\n",
    "# Set the velocity of COM\n",
    "COM.set_vel(N, u[0]*N.x + u[1]*N.y + u[2]*N.z)\n",
    "\n",
    "#center of bouyency\n",
    "COB = COM.locatenew('COB', R.x*Bw+R.z*Bh)\n",
    "COB.v2pt_theory(COM, N, R);\n",
    "#print(me.vlatex(R.dcm(N)))\n",
    "#mprint(Rz.ang_vel_in(N).express(N))\n",
    "#mprint(q[0]*N.x + q[1]*N.y + q[2]*N.z)\n",
    "mprint(u[0]*N.x + u[1]*N.y + u[2]*N.z)"
   ]
  },
  {
   "cell_type": "code",
   "execution_count": 28,
   "metadata": {},
   "outputs": [
    {
     "name": "stdout",
     "output_type": "stream",
     "text": [
      "u_{0}\\mathbf{\\hat{n}_x} + u_{1}\\mathbf{\\hat{n}_y} + u_{2}\\mathbf{\\hat{n}_z} + B_{h} \\left(u_{4} \\operatorname{cos}\\left(q_{3}\\right) + u_{5} \\operatorname{sin}\\left(q_{3}\\right) \\operatorname{cos}\\left(q_{4}\\right)\\right)\\mathbf{\\hat{r}_x} + (- B_{h} \\left(u_{3} - u_{5} \\operatorname{sin}\\left(q_{4}\\right)\\right) + B_{w} \\left(- u_{4} \\operatorname{sin}\\left(q_{3}\\right) + u_{5} \\operatorname{cos}\\left(q_{3}\\right) \\operatorname{cos}\\left(q_{4}\\right)\\right))\\mathbf{\\hat{r}_y} -  B_{w} \\left(u_{4} \\operatorname{cos}\\left(q_{3}\\right) + u_{5} \\operatorname{sin}\\left(q_{3}\\right) \\operatorname{cos}\\left(q_{4}\\right)\\right)\\mathbf{\\hat{r}_z}\n"
     ]
    },
    {
     "data": {
      "image/png": "[encoded data removed]",
      "text/latex": [
       "$$u_{0}\\mathbf{\\hat{n}_x} + u_{1}\\mathbf{\\hat{n}_y} + u_{2}\\mathbf{\\hat{n}_z} + B_{h} \\left(u_{4} \\operatorname{cos}\\left(q_{3}\\right) + u_{5} \\operatorname{sin}\\left(q_{3}\\right) \\operatorname{cos}\\left(q_{4}\\right)\\right)\\mathbf{\\hat{r}_x} + (- B_{h} \\left(u_{3} - u_{5} \\operatorname{sin}\\left(q_{4}\\right)\\right) + B_{w} \\left(- u_{4} \\operatorname{sin}\\left(q_{3}\\right) + u_{5} \\operatorname{cos}\\left(q_{3}\\right) \\operatorname{cos}\\left(q_{4}\\right)\\right))\\mathbf{\\hat{r}_y} -  B_{w} \\left(u_{4} \\operatorname{cos}\\left(q_{3}\\right) + u_{5} \\operatorname{sin}\\left(q_{3}\\right) \\operatorname{cos}\\left(q_{4}\\right)\\right)\\mathbf{\\hat{r}_z}$$"
      ],
      "text/plain": [
       "u₀ n_x + u₁ n_y + u₂ n_z + Bₕ⋅(u₄⋅cos(q₃) + u₅⋅sin(q₃)⋅cos(q₄)) r_x + (-Bₕ⋅(u₃\n",
       " - u₅⋅sin(q₄)) + B_w⋅(-u₄⋅sin(q₃) + u₅⋅cos(q₃)⋅cos(q₄))) r_y + -B_w⋅(u₄⋅cos(q₃\n",
       ") + u₅⋅sin(q₃)⋅cos(q₄)) r_z"
      ]
     },
     "execution_count": 28,
     "metadata": {},
     "output_type": "execute_result"
    }
   ],
   "source": [
    "mprint(COB.vel(N))"
   ]
  },
  {
   "cell_type": "code",
   "execution_count": null,
   "metadata": {},
   "outputs": [],
   "source": [
    "R.ang_vel_in(N)"
   ]
  },
  {
   "cell_type": "code",
   "execution_count": 23,
   "metadata": {},
   "outputs": [
    {
     "ename": "ValueError",
     "evalue": "Velocity of point COB has not been defined in ReferenceFrame R",
     "output_type": "error",
     "traceback": [
      "\u001b[0;31m---------------------------------------------------------------------------\u001b[0m",
      "\u001b[0;31mValueError\u001b[0m                                Traceback (most recent call last)",
      "\u001b[0;32m<ipython-input-23-a84e4474df85>\u001b[0m in \u001b[0;36m<module>\u001b[0;34m()\u001b[0m\n\u001b[0;32m----> 1\u001b[0;31m \u001b[0mCOB\u001b[0m\u001b[0;34m.\u001b[0m\u001b[0mvel\u001b[0m\u001b[0;34m(\u001b[0m\u001b[0mR\u001b[0m\u001b[0;34m)\u001b[0m\u001b[0;34m\u001b[0m\u001b[0m\n\u001b[0m",
      "\u001b[0;32m~/miniconda3/lib/python3.6/site-packages/sympy/physics/vector/point.py\u001b[0m in \u001b[0;36mvel\u001b[0;34m(self, frame)\u001b[0m\n\u001b[1;32m    453\u001b[0m         \u001b[0;32mif\u001b[0m \u001b[0;32mnot\u001b[0m \u001b[0;34m(\u001b[0m\u001b[0mframe\u001b[0m \u001b[0;32min\u001b[0m \u001b[0mself\u001b[0m\u001b[0;34m.\u001b[0m\u001b[0m_vel_dict\u001b[0m\u001b[0;34m)\u001b[0m\u001b[0;34m:\u001b[0m\u001b[0;34m\u001b[0m\u001b[0m\n\u001b[1;32m    454\u001b[0m             raise ValueError('Velocity of point ' + self.name + ' has not been'\n\u001b[0;32m--> 455\u001b[0;31m                              ' defined in ReferenceFrame ' + frame.name)\n\u001b[0m\u001b[1;32m    456\u001b[0m         \u001b[0;32mreturn\u001b[0m \u001b[0mself\u001b[0m\u001b[0;34m.\u001b[0m\u001b[0m_vel_dict\u001b[0m\u001b[0;34m[\u001b[0m\u001b[0mframe\u001b[0m\u001b[0;34m]\u001b[0m\u001b[0;34m\u001b[0m\u001b[0m\n\u001b[1;32m    457\u001b[0m \u001b[0;34m\u001b[0m\u001b[0m\n",
      "\u001b[0;31mValueError\u001b[0m: Velocity of point COB has not been defined in ReferenceFrame R"
     ]
    }
   ],
   "source": [
    "COB.vel(R)"
   ]
  },
  {
   "cell_type": "code",
   "execution_count": 14,
   "metadata": {},
   "outputs": [
    {
     "name": "stdout",
     "output_type": "stream",
     "text": [
      "B_{w}\\mathbf{\\hat{r}_x} + B_{h}\\mathbf{\\hat{r}_z} + q_{0}\\mathbf{\\hat{n}_x} + q_{1}\\mathbf{\\hat{n}_y} + q_{2}\\mathbf{\\hat{n}_z}\n"
     ]
    },
    {
     "data": {
      "image/png": "[encoded data removed]",
      "text/latex": [
       "$$B_{w}\\mathbf{\\hat{r}_x} + B_{h}\\mathbf{\\hat{r}_z} + q_{0}\\mathbf{\\hat{n}_x} + q_{1}\\mathbf{\\hat{n}_y} + q_{2}\\mathbf{\\hat{n}_z}$$"
      ],
      "text/plain": [
       "B_w r_x + Bₕ r_z + q₀ n_x + q₁ n_y + q₂ n_z"
      ]
     },
     "execution_count": 14,
     "metadata": {},
     "output_type": "execute_result"
    }
   ],
   "source": [
    "mprint(COB.pos_from(O))"
   ]
  },
  {
   "cell_type": "code",
   "execution_count": null,
   "metadata": {},
   "outputs": [],
   "source": []
  },
  {
   "cell_type": "code",
   "execution_count": null,
   "metadata": {},
   "outputs": [],
   "source": [
    "# Calculate inertia of body\n",
    "#for the products of inertia we assume symetric body => ixy=0, iyz=0, izx=0\n",
    "Ib = me.inertia(R, *I , ixy=0, iyz=0, izx=0)\n",
    "# Create a rigid body object for body\n",
    "Body = me.RigidBody('Body', COM, R, m_b, (Ib, COM))\n",
    "Ib"
   ]
  },
  {
   "cell_type": "code",
   "execution_count": null,
   "metadata": {},
   "outputs": [],
   "source": [
    "# Points of thrusters\n",
    "L1 = COM.locatenew('L_1', -R.x*T1+Wx*R.y)\n",
    "L2 = COM.locatenew('L_2', -R.x*T1-Wx*R.y)\n",
    "L3 = COM.locatenew('L_3', -R.x*T2-Wh*R.z)\n",
    "\n",
    "# Set the velocity of points \n",
    "L1.v2pt_theory(COM, N, R)\n",
    "L2.v2pt_theory(COM, N, R)\n",
    "L3.v2pt_theory(COM, N, R);\n",
    "-R.x*T1+Wx*R.y"
   ]
  },
  {
   "cell_type": "markdown",
   "metadata": {},
   "source": [
    "## Calculating hydrodynamic drag\n",
    "\n",
    "under sphire assumption and ignoring inertia forces\n",
    "\n",
    "$F_{D}\\,=\\,{\\tfrac {1}{2}}\\,\\rho \\,v^{2}\\,C_{D}\\,A$\n",
    "\n",
    "https://en.wikipedia.org/wiki/Drag_(physics)\n",
    "\n",
    "we define $\\mu$ as:\n",
    "\n",
    "$\\mu=\\,{\\tfrac {1}{2}}\\,\\rho \\,C_{D}\\,A$\n",
    "\n",
    "then:\n",
    "\n",
    "$F_{D}\\,=\\mu \\,v^{2}$"
   ]
  },
  {
   "cell_type": "code",
   "execution_count": null,
   "metadata": {},
   "outputs": [],
   "source": [
    "v=N.x*u[0]+N.y*u[1]+N.z*u[2]\n",
    "Fd=-v.normalize()*v.magnitude()**2*mu\n",
    "Fd"
   ]
  },
  {
   "cell_type": "code",
   "execution_count": null,
   "metadata": {},
   "outputs": [],
   "source": [
    "#thrust forces symbols\n",
    "F1, F2, F3 = symbols('f_1, f_2, f_3') \n",
    "Fg = -N.z *m_b * g\n",
    "Fb = N.z * v_b * 1e3 *g #whight of 1m^3 water in kg (MKS units)\n",
    "Fb"
   ]
  },
  {
   "cell_type": "code",
   "execution_count": null,
   "metadata": {},
   "outputs": [],
   "source": [
    "kane = me.KanesMethod(N, q_ind=q, u_ind=u, kd_eqs=kin_diff)"
   ]
  },
  {
   "cell_type": "code",
   "execution_count": null,
   "metadata": {},
   "outputs": [],
   "source": [
    "bodies = (Body,)\n",
    "loads = (\n",
    "    (L1, F1 * R.x),\n",
    "    (L2, F2 * R.x),\n",
    "    (L3, F3 * R.z), \n",
    "    (COM, Fg ), \n",
    "    (COB, Fb ), \n",
    "    (COM, Fd ),\n",
    "    T_x,\n",
    "    T_y,\n",
    "    T_z\n",
    "    )\n",
    "\n",
    "fr, frstar = kane.kanes_equations(loads=loads, bodies=bodies)"
   ]
  },
  {
   "cell_type": "code",
   "execution_count": null,
   "metadata": {},
   "outputs": [],
   "source": [
    "#u_dot=trigsimp(trigsimp(kane.mass_matrix).inv()*trigsimp(kane.forcing))\n",
    "u_dot=kane.mass_matrix.inv()*kane.forcing\n",
    "u_dot.atoms(Symbol)"
   ]
  },
  {
   "cell_type": "code",
   "execution_count": null,
   "metadata": {},
   "outputs": [],
   "source": []
  },
  {
   "cell_type": "code",
   "execution_count": null,
   "metadata": {},
   "outputs": [],
   "source": [
    "subs=[(Wx,0.1),\n",
    "    (Wh,0.15),\n",
    "    (T1,0.1),\n",
    "    (T2,0.05),\n",
    "    (Bh,0.08),\n",
    "    (Bw,0.01),\n",
    "    (m_b,1.0),\n",
    "    (v_b,0.001),\n",
    "    (mu,0.3),\n",
    "    (mu_r,0.2),\n",
    "    (g,9.8),\n",
    "    (I[0],0.5),\n",
    "    (I[1],0.5),\n",
    "    (I[2],0.5)\n",
    "     ]\n",
    "numerical_constants = [\n",
    "                            0.1,  # Wx [m]\n",
    "                            0.15,  # Wh [m]\n",
    "                            0.1,  # T1 [m]\n",
    "                            0.05,  # T2 [m]\n",
    "                            0.08,  # Bh [m]\n",
    "                            0.01,  # Bw [m]\n",
    "                            1.0,  # m_b [kg]\n",
    "                            0.001 ,  # v_b [M^3]\n",
    "                            0.3,  # mu\n",
    "                            0.2,  # mu_r\n",
    "                            9.8,  # g MKS\n",
    "                            0.5,  # Ixx [kg*m^2]\n",
    "                            0.5,  # Iyy [kg*m^2]\n",
    "                            0.5,  # Izz [kg*m^2]\n",
    "                               ]\n",
    "                             "
   ]
  },
  {
   "cell_type": "code",
   "execution_count": null,
   "metadata": {},
   "outputs": [],
   "source": [
    "u_dot_simp=u_dot.subs(subs)\n",
    "u_dot_simp=trigsimp(u_dot_simp)"
   ]
  },
  {
   "cell_type": "code",
   "execution_count": null,
   "metadata": {},
   "outputs": [],
   "source": [
    "import time\n"
   ]
  },
  {
   "cell_type": "code",
   "execution_count": null,
   "metadata": {},
   "outputs": [],
   "source": [
    "km_simp=trigsimp(kane.mass_matrix)\n",
    "kf_simp=trigsimp(kane.forcing)\n",
    "def get_next_state_slow(curr_q,curr_u,control,curr_t,dt,subs):\n",
    "    #for i in range(len(q_vec)):\n",
    "    rg=range(len(curr_q))\n",
    "    subsqf=[(q[i],curr_q[i]) for i in rg] + [(u[i],curr_u[i]) for i in rg]+subs\n",
    "    forces=control(curr_t)\n",
    "    subsqf+=[(F1,forces[0]),(F2,forces[1]),(F3,forces[2])]\n",
    "    if 0:\n",
    "        u_dot_f=u_dot_simp.subs(subsqf).evalf()\n",
    "    else:\n",
    "        km=km_simp.subs(subsqf).evalf()\n",
    "        kf=kf_simp.subs(subsqf).evalf()\n",
    "        u_dot_f=km.inv()*kf\n",
    "    #print('--',u_dot_f)\n",
    "    u_dot_f=np.array(u_dot_f).flatten()\n",
    "    next_q=curr_q+curr_u*dt\n",
    "    next_u=curr_u+u_dot_f*dt\n",
    "    return next_q,next_u"
   ]
  },
  {
   "cell_type": "code",
   "execution_count": null,
   "metadata": {},
   "outputs": [],
   "source": [
    "from sympy import lambdify\n",
    "def get_next_state_lambda(subs):\n",
    "    u_dot_simp_q_u_f=u_dot_simp.subs(subs)\n",
    "    return lambdify((q,u,F1,F2,F3),u_dot_simp_q_u_f)\n",
    "\n",
    "def get_next_state(curr_q,curr_u,control,curr_t,dt,lamb):\n",
    "    forces=control(curr_t)\n",
    "    u_dot_f=lamb(curr_q,curr_u,*forces).flatten()\n",
    "    next_q=curr_q+curr_u*dt\n",
    "    next_u=curr_u+u_dot_f*dt\n",
    "    return next_q,next_u\n",
    "#test lambdify\n",
    "qq=np.zeros(6)\n",
    "uu=np.zeros(6)\n",
    "lamb=get_next_state_lambda(subs)\n",
    "lamb(qq,uu,0,0,0)"
   ]
  },
  {
   "cell_type": "code",
   "execution_count": null,
   "metadata": {},
   "outputs": [],
   "source": [
    "def plot():\n",
    "    plt.figure()\n",
    "    plt.subplot(2,2,1)\n",
    "    plt.plot(t, y[:, :3])\n",
    "    plt.legend([latex(s, mode='inline') for s in 'xyz'])\n",
    "    plt.title('a) Position vs Time')\n",
    "    plt.subplot(2,2,2)\n",
    "    plt.plot(t, np.rad2deg(y[:, 3:6]))\n",
    "    plt.legend([latex(s, mode='inline') for s in 'ypr'])\n",
    "    plt.title('b) Rotations vs Time')\n",
    "    plt.subplot(2,2,3)\n",
    "    plt.title('c) XY plane plot')\n",
    "    plt.plot(y[:,0],y[:,1])\n",
    "    plt.axis('equal')\n",
    "    plt.subplot(2,2,4)\n",
    "    plt.plot(t, np.rad2deg(y[:, 9:12]))\n",
    "    plt.legend([latex(s, mode='inline') for s in ['Rz','Ry','Rx']])\n",
    "    plt.title('d) Angular velocities')\n"
   ]
  },
  {
   "cell_type": "code",
   "execution_count": null,
   "metadata": {},
   "outputs": [],
   "source": [
    "def controller(t):\n",
    "    if t<20:\n",
    "        return [0.0,0.0,0]\n",
    "    else:\n",
    "        return [-0.8,-0.5,0]\n"
   ]
  },
  {
   "cell_type": "code",
   "execution_count": null,
   "metadata": {},
   "outputs": [],
   "source": [
    "curr_q = np.zeros(6)\n",
    "curr_u = np.zeros(6)\n",
    "frames_per_sec = 60.0\n",
    "final_time = 40.0\n",
    "dt=1.0/frames_per_sec\n",
    "y=[]\n",
    "curr_time=0\n",
    "t = np.linspace(0.0, final_time, int(final_time * frames_per_sec))\n",
    "lamb=get_next_state_lambda(subs)\n",
    "for curr_time in t:\n",
    "    #next_q,next_u=get_next_state(curr_q,curr_u,controller,curr_time,dt,subs)\n",
    "    next_q,next_u=get_next_state(curr_q,curr_u,controller,curr_time,dt,lamb)\n",
    "    next_q,next_u=next_q.flatten(),next_u.flatten()\n",
    "    y.append(np.hstack((next_q,next_u)))\n",
    "    curr_q,curr_u=next_q,next_u\n",
    "y=np.array(y,dtype='float32')\n"
   ]
  },
  {
   "cell_type": "code",
   "execution_count": null,
   "metadata": {},
   "outputs": [],
   "source": [
    "plot()"
   ]
  },
  {
   "cell_type": "code",
   "execution_count": null,
   "metadata": {},
   "outputs": [],
   "source": []
  },
  {
   "cell_type": "code",
   "execution_count": null,
   "metadata": {},
   "outputs": [],
   "source": []
  }
 ],
 "metadata": {
  "kernelspec": {
   "display_name": "Python 3",
   "language": "python",
   "name": "python3"
  },
  "language_info": {
   "codemirror_mode": {
    "name": "ipython",
    "version": 3
   },
   "file_extension": ".py",
   "mimetype": "text/x-python",
   "name": "python",
   "nbconvert_exporter": "python",
   "pygments_lexer": "ipython3",
   "version": "3.6.4"
  }
 },
 "nbformat": 4,
 "nbformat_minor": 2
}
